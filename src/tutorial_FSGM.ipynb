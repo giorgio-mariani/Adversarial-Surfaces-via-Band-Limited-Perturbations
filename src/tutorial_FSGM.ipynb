{
 "cells": [
  {
   "cell_type": "code",
   "execution_count": 3,
   "metadata": {},
   "outputs": [
    {
     "name": "stdout",
     "output_type": "stream",
     "text": [
      "The autoreload extension is already loaded. To reload it, use:\n",
      "  %reload_ext autoreload\n"
     ]
    },
    {
     "data": {
      "image/png": "[encoded data removed]",
      "text/plain": [
       "<Figure size 432x288 with 1 Axes>"
      ]
     },
     "metadata": {
      "needs_background": "light"
     },
     "output_type": "display_data"
    },
    {
     "name": "stderr",
     "output_type": "stream",
     "text": [
      "100%|██████████████████████████████████████████████████████████████████████████████████| 80/80 [00:24<00:00,  3.20it/s]\n"
     ]
    },
    {
     "name": "stdout",
     "output_type": "stream",
     "text": [
      "tensor(0.9250)\n"
     ]
    },
    {
     "data": {
      "image/png": "[encoded data removed]",
      "text/plain": [
       "<Figure size 288x288 with 1 Axes>"
      ]
     },
     "metadata": {
      "needs_background": "light"
     },
     "output_type": "display_data"
    }
   ],
   "source": [
    "%load_ext autoreload\n",
    "%autoreload 2\n",
    "\n",
    "# built-in libraries\n",
    "import os \n",
    "\n",
    "# third party libraries\n",
    "import matplotlib.pyplot as plt \n",
    "import numpy as np\n",
    "import tqdm\n",
    "import torch \n",
    "import torch.nn.functional as func\n",
    "\n",
    "# repository modules\n",
    "import models\n",
    "import dataset\n",
    "import train\n",
    "import adversarial.pgd as pgd\n",
    "\n",
    "REPO_ROOT = os.path.join(os.path.dirname(os.path.realpath('__file__')),\"..\")\n",
    "FAUST = os.path.join(REPO_ROOT,\"datasets/faust\")\n",
    "PARAMS_FILE = os.path.join(REPO_ROOT, \"model_data/data.pt\")\n",
    "\n",
    "traindata = dataset.FaustDataset(FAUST, train=True, test=False, transform_data=True)\n",
    "testdata = dataset.FaustDataset(FAUST, train=False, test=True,  transform_data=True)\n",
    "model = models.ChebnetClassifier(\n",
    "    param_conv_layers=[128,128,64,64],\n",
    "    D_t = traindata.downscale_matrices,\n",
    "    E_t = traindata.downscaled_edges,\n",
    "    num_classes = traindata.num_classes,\n",
    "    parameters_file=PARAMS_FILE)\n",
    "\n",
    "#train network\n",
    "loss = train.train(\n",
    "    train_data=traindata,\n",
    "    classifier=model,\n",
    "    parameters_file=PARAMS_FILE,\n",
    "    epoch_number=0, #<-------------- change in order to train\n",
    "    learning_rate=1e-4)\n",
    "plt.plot(loss)\n",
    "plt.show()\n",
    "\n",
    "#compute accuracy\n",
    "accuracy, confusion_matrix = train.evaluate(eval_data=traindata, classifier=model)\n",
    "\n",
    "print(accuracy)\n",
    "plt.matshow(confusion_matrix)\n",
    "plt.show()"
   ]
  },
  {
   "cell_type": "code",
   "execution_count": 6,
   "metadata": {},
   "outputs": [
    {
     "name": "stdout",
     "output_type": "stream",
     "text": [
      "successful: True\n"
     ]
    },
    {
     "data": {
      "text/plain": [
       "<adversarial.pgd.PGDAdversarialExample at 0x25c08dfd780>"
      ]
     },
     "execution_count": 6,
     "metadata": {},
     "output_type": "execute_result"
    }
   ],
   "source": [
    "import adversarial.pgd as pgd\n",
    "import numpy as np\n",
    "\n",
    "def save_adex(adex, y, filename):\n",
    "  ppos = adex.perturbed_pos.detach().clone().cpu().numpy()\n",
    "  pos = adex.pos.detach().clone().cpu().numpy()\n",
    "  edges = adex.edges.detach().clone().cpu().numpy()\n",
    "  faces = adex.faces.detach().clone().cpu().numpy()\n",
    "  is_successful = adex.is_successful\n",
    "  \n",
    "  data = {\"perturbed-positions\":ppos,\n",
    "   \"positions\":pos,\n",
    "   \"edges\":edges,\n",
    "   \"faces\":faces,\n",
    "    \"y\":y,\n",
    "    \"success\":is_successful}\n",
    "  np.save(filename, data, allow_pickle=True)\n",
    "    \n",
    "\n",
    "def FSGM_experiments(projection_type, builder_type, model, data, shape_index):\n",
    "    \"\"\"\n",
    "    Arguments:\n",
    "    * projection_type: can assume values in ['lowband','lowband-clip','clip']\n",
    "    * builder_type: use \"l2\" to use the attack from 'Extending ...', use 'sign' for standard fsgm.\n",
    "    * model: classifier\n",
    "    * data: dataset used\n",
    "    * shape_index: index of shape in data.\n",
    "    \"\"\"\n",
    "    projections = {\"lowband\":         pgd.lowband_filter,\n",
    "                  \"lowband-clip\":     lambda a,x: pgd.clip(a, pgd.lowband_filter(a,x)),\n",
    "                  \"lowband-clipnorm\": lambda a,x: pgd.clip_norms(a,pgd.lowband_filter(a,x)),\n",
    "                   \"none\":            lambda y,z : z,\n",
    "                  \"clip\":             pgd.clip,\n",
    "                  \"clipnorm\":         pgd.clip_norms}\n",
    "\n",
    "    builders = {\"sign\":(pgd.PGDBuilder,0.005), \"l2\":(pgd.L2PGDBuilder, 1)}    \n",
    "    i = shape_index\n",
    "    x = data[i].pos\n",
    "    e = data[i].edge_index.t()\n",
    "    f = data[i].face.t() \n",
    "    y = data[i].y\n",
    "\n",
    "    if model(x).argmax() == y:\n",
    "        tmp, alpha = builders[builder_type]\n",
    "        builder = tmp().set_iterations(7).set_epsilon(0.045).set_alpha(alpha).set_eigs_number(50)\n",
    "        builder.set_projection(projections[projection_type])\n",
    "        builder.set_mesh(x,e,f).set_classifier(model)\n",
    "        adex = builder.build(usetqdm=\"standard\")\n",
    "        print(\"successful: {}\".format(adex.is_successful))\n",
    "        return adex\n",
    "    else:\n",
    "        print(\"skip\")\n",
    "        \n",
    "FSGM_experiments(\"lowband-clip\", \"sign\", model=model, data=testdata, shape_index=0)"
   ]
  }
 ],
 "metadata": {
  "kernelspec": {
   "display_name": "Python 3",
   "language": "python",
   "name": "python3"
  },
  "language_info": {
   "codemirror_mode": {
    "name": "ipython",
    "version": 3
   },
   "file_extension": ".py",
   "mimetype": "text/x-python",
   "name": "python",
   "nbconvert_exporter": "python",
   "pygments_lexer": "ipython3",
   "version": "3.7.3"
  }
 },
 "nbformat": 4,
 "nbformat_minor": 4
}
