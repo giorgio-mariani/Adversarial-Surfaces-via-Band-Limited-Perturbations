{
 "cells": [
  {
   "cell_type": "code",
   "execution_count": null,
   "metadata": {},
   "outputs": [],
   "source": [
    "%load_ext autoreload\n",
    "%autoreload 2\n",
    "\n",
    "import numpy as np\n",
    "import tqdm\n",
    "import torch \n",
    "import torch.nn.functional as func\n",
    "\n",
    "import dataset\n",
    "import models\n",
    "\n",
    "FAUST = \"../../Downloads/Mesh-Datasets/MyFaustDataset\"\n",
    "MODEL_PATH = \"../model_data/data.pt\"\n",
    "\n",
    "dataset = dataset.FaustDataset(FAUST)\n",
    "\n",
    "model = models.ChebClassifier(\n",
    "    param_conv_layers=[64,64,32,32],\n",
    "    E_t=dataset.downscaled_edges, \n",
    "    D_t=dataset.downscale_matrices,\n",
    "    num_classes = 10)\n",
    "\n",
    "optimizer = torch.optim.Adam(model.parameters(), lr=1e-3, weight_decay=5e-4)\n",
    "criterion = torch.nn.CrossEntropyLoss()\n",
    "model.load_state_dict(torch.load(MODEL_PATH))\n"
   ]
  },
  {
   "cell_type": "code",
   "execution_count": null,
   "metadata": {},
   "outputs": [],
   "source": [
    "import plotly\n",
    "import plotly.io as pio\n",
    "import plotly.graph_objects as go\n",
    "\n",
    "def visualize(pos, face, intensity=None):\n",
    "    \"\"\"\n",
    "    visualize input mesh\n",
    "    \"\"\"\n",
    "    \n",
    "    pos = pos.numpy()\n",
    "    f = face.numpy()\n",
    "    \n",
    "    if intensity is None:\n",
    "        intensity = np.ones(pos.shape[0])\n",
    "    \n",
    "    x,y,z = pos[:,0], pos[:,1], pos[:,2]\n",
    "    i,j,k = f[0,:], f[1,:], f[2,:]\n",
    "    mesh = go.Mesh3d(x=x, y=z, z=y,\n",
    "              color='lightpink',\n",
    "              intensity=intensity,\n",
    "              opacity=1,\n",
    "              i=i, j=j, k=k,\n",
    "              showscale=True)\n",
    "    layout = go.Layout(scene=go.layout.Scene(aspectmode=\"data\")) \n",
    "\n",
    "    #pio.renderers.default=\"plotly_mimetype\"\n",
    "    fig = go.Figure(data=[mesh],\n",
    "                   layout=layout)\n",
    "    fig.update_layout(\n",
    "        autosize=True,\n",
    "        margin=dict(l=20, r=20, t=20, b=20),\n",
    "        paper_bgcolor=\"LightSteelBlue\")\n",
    "    fig.show()\n",
    "    "
   ]
  },
  {
   "cell_type": "markdown",
   "metadata": {},
   "source": [
    "now that we have defined the visualization procedure, we can show some meshes:"
   ]
  },
  {
   "cell_type": "code",
   "execution_count": null,
   "metadata": {},
   "outputs": [],
   "source": [
    "import mesh.transforms as mo\n",
    "\n",
    "mesh = dataset[0]\n",
    "x = mesh.pos.clone()\n",
    "mo.transform_rotation_(mesh.pos,dims=[1,2,3,4,2])\n",
    "visualize(mesh)"
   ]
  },
  {
   "cell_type": "code",
   "execution_count": null,
   "metadata": {},
   "outputs": [],
   "source": [
    "from mesh.laplacian import laplacebeltrami_FEM\n",
    "\n",
    "mesh = dataset[0]\n",
    "pos = dataset[2].pos\n",
    "face = dataset[0].face.t()\n",
    "stiff, area, lump = laplacebeltrami_FEM(pos, face)\n",
    "\n",
    "f = torch.zeros([pos.shape[0],1])\n",
    "f[0] = 1\n",
    "f = lump.view(-1,1)*torch.sparse.mm(stiff, f)\n",
    "f = f.numpy()\n",
    "\n",
    "visualize(pos,face.t(), intensity=f)"
   ]
  },
  {
   "cell_type": "markdown",
   "metadata": {},
   "source": [
    "# Eigenvalues filters"
   ]
  },
  {
   "cell_type": "code",
   "execution_count": null,
   "metadata": {},
   "outputs": [],
   "source": [
    "import numpy as np\n",
    "import torch \n",
    "import torch_sparse as tsparse\n",
    "\n",
    "import dataset\n",
    "import mesh.laplacian\n",
    "\n",
    "from scipy.sparse import linalg as sla\n",
    "from scipy import linalg as la\n",
    "\n",
    "ds_i=0\n",
    "data = dataset.FaustDataset(\"../../Downloads/Mesh-Datasets/MyFaustDataset\")\n",
    "pos = data[0].pos\n",
    "for i in range(ds_i): \n",
    "    pos = data.downscale_matrices[i].matmul(pos)\n",
    "faces = data.downscaled_faces[ds_i]\n"
   ]
  },
  {
   "cell_type": "code",
   "execution_count": null,
   "metadata": {},
   "outputs": [],
   "source": [
    "n=pos.shape[0]\n",
    "\n",
    "#(si,sv), (ai,av) = mesh.laplacian.LB_v2(pos, faces.t())\n",
    "#li,lv = tsparse.spspmm(ai, 1/av, si,sv, m=n,k=n,n=n)\n",
    "\n",
    "pos = pos.to(torch.double)\n",
    "S,A,_ = mesh.laplacian.laplacebeltrami_FEM(pos, faces.t())\n",
    "S = S.to_dense()\n",
    "A = A.to_dense()\n",
    "L = torch.inverse(A).matmul(S)\n",
    "\n",
    "#values = lv.detach().cpu().numpy()\n",
    "#indices = li.detach().cpu().numpy()\n",
    "#L = scisparse.coo_matrix((values, indices)).tocsc()\n",
    "#e, phi = sla.eigsh(Ascipy, k=100)\n",
    "\n",
    "e, phi = la.eigh(a=S,b=A)\n",
    "\n",
    "\n",
    "phi = torch.tensor(phi[:,:1500])\n",
    "e = torch.tensor(e[:1500])\n",
    "\n",
    "import matplotlib.pyplot as plt\n",
    "plt.plot(range(len(e)), e)\n",
    "visualize(pos, faces, intensity=phi[:,1])\n"
   ]
  },
  {
   "cell_type": "code",
   "execution_count": null,
   "metadata": {},
   "outputs": [],
   "source": [
    "f = torch.zeros([pos.shape[0],1],dtype=pos.dtype)\n",
    "f[10] = 100\n",
    "\n",
    "x_hat = phi.t().matmul(f)\n",
    "x_hat = e.view(-1,1)*x_hat\n",
    "dirchlet1 = phi.matmul(x_hat)\n",
    "dirchlet2 = L@f\n",
    "tmp = torch.norm(L@pos, dim=1, p=2)\n",
    "\n",
    "\n",
    "visualize(pos, faces, tmp)"
   ]
  },
  {
   "cell_type": "code",
   "execution_count": null,
   "metadata": {},
   "outputs": [],
   "source": [
    "pos = pos.to(torch.double)\n",
    "n = pos.shape[0]\n",
    "r = torch.normal(0, std=1e-5, size=[n, 3], requires_grad=True, device=pos.device)\n",
    "optimizer = torch.optim.Adam([r], lr=8e-6, weight_decay=5e-4)\n",
    "\n",
    "visualize(r.clone().detach(), faces, tmp)\n",
    "\n",
    "for i in tqdm.tqdm(range(1000)):\n",
    "    optimizer.zero_grad()\n",
    "    (si,sv), (ai,av) = mesh.laplacian.LB_v2(r, faces.t())\n",
    "    _,L1 = tsparse.spspmm(ai, av.pow_(-1), si,sv, n,n,n)\n",
    "    \n",
    "    loss = ((L1)**2).sum()\n",
    "    loss.backward()\n",
    "    optimizer.step()\n",
    "visualize(r.clone().detach(), faces, tmp)\n",
    "\n"
   ]
  },
  {
   "cell_type": "code",
   "execution_count": null,
   "metadata": {},
   "outputs": [],
   "source": []
  }
 ],
 "metadata": {
  "kernelspec": {
   "display_name": "Python 3",
   "language": "python",
   "name": "python3"
  },
  "language_info": {
   "codemirror_mode": {
    "name": "ipython",
    "version": 3
   },
   "file_extension": ".py",
   "mimetype": "text/x-python",
   "name": "python",
   "nbconvert_exporter": "python",
   "pygments_lexer": "ipython3",
   "version": "3.7.3"
  }
 },
 "nbformat": 4,
 "nbformat_minor": 4
}
