{
 "cells": [
  {
   "cell_type": "code",
   "execution_count": null,
   "metadata": {},
   "outputs": [],
   "source": [
    "%load_ext autoreload\n",
    "%autoreload 2\n",
    "\n",
    "import numpy as np\n",
    "import tqdm\n",
    "import torch \n",
    "import torch.nn.functional as func\n",
    "\n",
    "import faust\n",
    "import models\n",
    "\n",
    "FAUST = \"../../Downloads/Mesh-Datasets/MyFaustDataset\"\n",
    "MODEL_PATH = \"../model_data/data.pt\"\n",
    "\n",
    "dataset = faust.FaustDataset(FAUST)\n",
    "\n",
    "model = models.ChebClassifier(\n",
    "    param_conv_layers=[64,64,32,32],\n",
    "    E_t=dataset.downscaled_edges, \n",
    "    D_t=dataset.downscale_matrices,\n",
    "    num_classes = 10)\n",
    "\n",
    "optimizer = torch.optim.Adam(model.parameters(), lr=1e-3, weight_decay=5e-4)\n",
    "criterion = torch.nn.CrossEntropyLoss()\n",
    "model.load_state_dict(torch.load(MODEL_PATH))\n"
   ]
  },
  {
   "cell_type": "code",
   "execution_count": null,
   "metadata": {},
   "outputs": [],
   "source": [
    "import plotly\n",
    "import plotly.io as pio\n",
    "import plotly.graph_objects as go\n",
    "\n",
    "def visualize(mesh, D=None, F=None, scale_index=0, intensity=None):\n",
    "    \"\"\"\n",
    "    visualize input mesh.\n",
    "    \n",
    "    The input lists D and F are respectively the downscale matrices and the faces of the downscaled\n",
    "    mesh. The scale_index parameter indicates which downscaling matrix should be used, if scale_index=0 then\n",
    "    no downscaling is applied (scale_index must be less then or equal to the length of D and F).\n",
    "    \n",
    "    NOTE: if scale_index is 0 then the parameters F and D are not necessary and can simply have value to None.\n",
    "    \"\"\"\n",
    "    \n",
    "    pos = mesh.pos.numpy()\n",
    "    if scale_index == 0:\n",
    "        f = mesh.face.numpy()\n",
    "    else:\n",
    "        f = F[scale_index-1]\n",
    "        for j in range(scale_index):\n",
    "            pos = torch.sparse.mm(D[j], pos) #transform graph signal (vertex positions) to downscaled graph\n",
    "\n",
    "    if intensity is None:\n",
    "        intensity = np.ones(pos.shape[0])\n",
    "    \n",
    "    x,y,z = pos[:,0], pos[:,1], pos[:,2]\n",
    "    i,j,k = f[0,:], f[1,:], f[2,:]\n",
    "    mesh = go.Mesh3d(x=x, y=z, z=y,\n",
    "              color='lightpink',\n",
    "              intensity=intensity,\n",
    "              opacity=1,\n",
    "              i=i, j=j, k=k,\n",
    "              showscale=True)\n",
    "    layout = go.Layout(scene=go.layout.Scene(aspectmode=\"data\")) \n",
    "\n",
    "    #pio.renderers.default=\"plotly_mimetype\"\n",
    "    fig = go.Figure(data=[mesh],\n",
    "                   layout=layout)\n",
    "    fig.update_layout(\n",
    "        autosize=True,\n",
    "        margin=dict(l=20, r=20, t=20, b=20),\n",
    "        paper_bgcolor=\"LightSteelBlue\")\n",
    "    fig.show()\n",
    "    "
   ]
  },
  {
   "cell_type": "markdown",
   "metadata": {},
   "source": [
    "now that we have defined the visualization procedure, we can show some meshes:"
   ]
  },
  {
   "cell_type": "code",
   "execution_count": null,
   "metadata": {},
   "outputs": [],
   "source": [
    "import misc.mesh_operations as mo\n",
    "\n",
    "mesh = dataset[0]\n",
    "x = mesh.pos.clone()\n",
    "mo.transform_rotation_(mesh.pos,dims=[1,2,3,4,2])\n",
    "visualize(mesh)"
   ]
  }
 ],
 "metadata": {
  "kernelspec": {
   "display_name": "Python 3",
   "language": "python",
   "name": "python3"
  },
  "language_info": {
   "codemirror_mode": {
    "name": "ipython",
    "version": 3
   },
   "file_extension": ".py",
   "mimetype": "text/x-python",
   "name": "python",
   "nbconvert_exporter": "python",
   "pygments_lexer": "ipython3",
   "version": "3.7.3"
  }
 },
 "nbformat": 4,
 "nbformat_minor": 4
}
