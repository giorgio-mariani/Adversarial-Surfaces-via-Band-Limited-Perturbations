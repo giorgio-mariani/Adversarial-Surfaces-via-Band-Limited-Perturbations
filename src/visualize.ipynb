{
 "cells": [
  {
   "cell_type": "code",
   "execution_count": null,
   "metadata": {},
   "outputs": [],
   "source": [
    "%load_ext autoreload\n",
    "%autoreload 2\n",
    "\n",
    "import os\n",
    "import pickle\n",
    "import matplotlib.pyplot as plt\n",
    "\n",
    "import numpy as np\n",
    "import scipy\n",
    "import tqdm\n",
    "import torch \n",
    "import torch.nn.functional as func\n",
    "\n",
    "import dataset\n",
    "import models\n",
    "import utils\n",
    "\n",
    "FAUST = \"../../Downloads/Mesh-Datasets/MyFaustDataset\"\n",
    "MODEL_PATH = \"../model_data/data.pt\"\n",
    "\n",
    "data = dataset.FaustDataset(FAUST)\n",
    "\n",
    "model = models.ChebClassifier(\n",
    "    param_conv_layers=[64,64,32,32],\n",
    "    E_t=data.downscaled_edges, \n",
    "    D_t=data.downscale_matrices,\n",
    "    num_classes = 10)\n",
    "\n",
    "optimizer = torch.optim.Adam(model.parameters(), lr=1e-3, weight_decay=5e-4)\n",
    "criterion = torch.nn.CrossEntropyLoss()\n",
    "model.load_state_dict(torch.load(MODEL_PATH))\n"
   ]
  },
  {
   "cell_type": "code",
   "execution_count": null,
   "metadata": {},
   "outputs": [],
   "source": [
    "import plotly\n",
    "import plotly.graph_objects as go\n",
    "import numpy as np\n",
    "\n",
    "def visualize(pos, faces, intensity=None):\n",
    "  cpu = torch.device(\"cpu\")\n",
    "  if type(pos) != np.ndarray:\n",
    "    pos = pos.to(cpu).clone().detach().numpy()\n",
    "  if pos.shape[-1] != 3:\n",
    "    raise ValueError(\"Vertices positions must have shape [n,3]\")\n",
    "  if type(faces) != np.ndarray:\n",
    "    faces = faces.to(cpu).clone().detach().numpy()\n",
    "  if faces.shape[-1] != 3:\n",
    "    raise ValueError(\"Face indices must have shape [m,3]\") \n",
    "  if intensity is None:\n",
    "    intensity = np.ones([pos.shape[0]])\n",
    "  elif type(intensity) != np.ndarray:\n",
    "    intensity = intensity.to(cpu).clone().detach().numpy()\n",
    "\n",
    "  x, z, y = pos.T\n",
    "  i, j, k = faces.T\n",
    "\n",
    "  mesh = go.Mesh3d(x=x, y=y, z=z,\n",
    "            color='lightpink',\n",
    "            intensity=intensity,\n",
    "            opacity=1,\n",
    "            colorscale=[[0, 'gold'],[0.5, 'mediumturquoise'],[1, 'magenta']],\n",
    "            i=i, j=j, k=k,\n",
    "            showscale=True)\n",
    "  layout = go.Layout(scene=go.layout.Scene(aspectmode=\"data\")) \n",
    "\n",
    "  #pio.renderers.default=\"plotly_mimetype\"\n",
    "  fig = go.Figure(data=[mesh],\n",
    "                  layout=layout)\n",
    "  fig.update_layout(\n",
    "      autosize=True,\n",
    "      margin=dict(l=20, r=20, t=20, b=20),\n",
    "      paper_bgcolor=\"LightSteelBlue\")\n",
    "  fig.show()\n"
   ]
  },
  {
   "cell_type": "markdown",
   "metadata": {},
   "source": [
    "now that we have defined the visualization procedure, we can show some meshes:"
   ]
  },
  {
   "cell_type": "code",
   "execution_count": null,
   "metadata": {},
   "outputs": [],
   "source": [
    "import mesh.transforms as mo\n",
    "\n",
    "x = data[0].pos.clone()\n",
    "f = data[0].face.t().clone()\n",
    "mo.transform_rotation_(x, dims=[1,2,0])\n",
    "visualize(x,f)"
   ]
  },
  {
   "cell_type": "markdown",
   "metadata": {},
   "source": [
    "## Mean Curvature computation"
   ]
  },
  {
   "cell_type": "code",
   "execution_count": null,
   "metadata": {},
   "outputs": [],
   "source": [
    "import utils\n",
    "from mesh.laplacian import laplacebeltrami_FEM\n",
    "from mesh.laplacian import LB_v2\n",
    "import torch_sparse as  tsparse\n",
    "\n",
    "pos = data[0].pos\n",
    "faces = data[0].face.t()\n",
    "stiff, area = LB_v2(pos, faces)\n",
    "n = pos.shape[0]\n",
    "\n",
    "#eigvals, eigvecs = utils.eigenpairs(pos, faces)\n",
    "tmp = tsparse.spmm(*stiff, n, n, pos)\n",
    "ai, av = area\n",
    "mcn = tsparse.spmm(ai, torch.reciprocal(av), n, n, tmp)\n",
    "mc = np.linalg.norm(mcn, axis=-1)\n",
    "np.save(\"tmp\",[pos,faces,mc])\n",
    "\n",
    "visualize(pos, faces, intensity=np.log(mc))"
   ]
  },
  {
   "cell_type": "markdown",
   "metadata": {},
   "source": [
    "## Metrics\n"
   ]
  },
  {
   "cell_type": "code",
   "execution_count": null,
   "metadata": {},
   "outputs": [],
   "source": [
    "def compute_distance_mse(pos, perturbed_pos, faces, K, t):\n",
    "    eigvals1, eigvecs1 = eigenpairs(pos, faces, K)\n",
    "    eigvals2, eigvecs2 = eigenpairs(perturbed_pos, faces, K)\n",
    "    d1 = diffusion_distance(eigvals1,eigvecs1,t)\n",
    "    d2 = diffusion_distance(eigvals2,eigvecs2,t)\n",
    "    return d1,d2\n",
    "\n",
    "\n",
    "def compute_distance_distance(distance, perbed_pos, faces, K, t):\n",
    "    eigvals, eigvecs = eigenpairs(perbed_pos, faces, K)\n",
    "    d = diffusion_distance(eigvals,eigvecs,t)\n",
    "    return torch.nn.functional.mse_loss(distance, d)\n",
    "\n",
    "def get_generator_data(adv_data, faces, K=10, t=0.01):\n",
    "    out_dictionary = {\"MSE_diffusion\":[], \"LB_loss\":[], \"MCF_loss\":[], \"Euclidean_loss\":[]}\n",
    "    diff_distances, mesh_eigenpairs = {}, {}\n",
    "    for (idx, target), data in adv_data.items():\n",
    "        print(\"processing \", idx,\":\",target)\n",
    "\n",
    "        # get useful properties\n",
    "        metrics = data[\"tracking-data\"]\n",
    "        pos = torch.tensor(data[\"positions\"],dtype=torch.double)\n",
    "        ppos = torch.tensor(data[\"perturbed-positions\"],dtype=torch.double)\n",
    "        c = data[\"c-value\"]\n",
    "        \n",
    "        if idx not in mesh_eigenpairs:\n",
    "            mesh_eigenpairs[idx] = utils.eigenpairs(pos, faces, K)\n",
    "            \n",
    "        if idx not in diff_distances:\n",
    "            diff_distances[idx] = diffusion_distance(*mesh_eigenpairs[idx], t)\n",
    "\n",
    "        out_dictionary[\"MSE_diffusion\"] = compute_distance_distance(\n",
    "            diff_distances[idx], ppos, faces, K, t)\n",
    "        \n",
    "        # insert metrics into output dictionary  \n",
    "        for k in out_dictionary.keys():\n",
    "            if k in metrics: out_dictionary[k].append(metrics[k][-1])\n",
    "\n",
    "    # convert into numpy arrays\n",
    "    for k in out_dictionary.keys():out_dictionary[k] = np.array(out_dictionary[k])\n",
    "    return out_dictionary\n",
    "\n",
    "\n",
    "root = \"../model_data/adv_data\"\n",
    "filenames = [\"Spectral\", \"MCF\", \"Dist\"]\n",
    "faces = data[0].face.t()\n",
    "\n",
    "generators_data = {}\n",
    "for fname in filenames:\n",
    "  absname = os.path.join(root, fname+\"AdversarialGenerator.pt\")\n",
    "  with open(absname, \"rb\") as f:\n",
    "    generators_data[fname] = pickle.load(f)\n",
    "    \n",
    "processed_data = {}\n",
    "for gname, adv_data in generators_data.items():\n",
    "    print(gname)\n",
    "    processed_data[gname] = get_generator_data(adv_data, faces, K=30, t=0.01)\n",
    "    "
   ]
  },
  {
   "cell_type": "markdown",
   "metadata": {},
   "source": [
    "## Plot data"
   ]
  },
  {
   "cell_type": "code",
   "execution_count": null,
   "metadata": {},
   "outputs": [],
   "source": [
    "import matplotlib as mpl\n",
    "mpl.rcParams['axes.linewidth'] = 3\n",
    "\n",
    "def boxplot(boxdata, labels=[], title=\"\", ylabel=\"\", xlabel=\"\",savefile=None, yscale=None):\n",
    "    fig = plt.figure(1, figsize=(9, 6))\n",
    "    ax = plt.subplot(111)\n",
    "    ax.boxplot(boxdata)\n",
    "    if yscale is not None: plt.yscale(yscale)\n",
    "    locs, _ = plt.xticks()\n",
    "    plt.xticks(locs, labels,fontsize=17)\n",
    "    plt.xlabel(xlabel,fontsize=20, fontweight='bold')\n",
    "    plt.ylabel(ylabel,fontsize=20, fontweight='bold')\n",
    "    plt.suptitle(title,fontsize=25, fontweight='bold')\n",
    "    if savefile is not None:\n",
    "        plt.savefig(savefile,dpi=300,bbox_inches='tight')\n"
   ]
  },
  {
   "cell_type": "code",
   "execution_count": null,
   "metadata": {},
   "outputs": [],
   "source": [
    "def prefix2label(gen_prefix:str):\n",
    "    pref2lab = {\n",
    "         \"Spectral\":\"Laplace-\\nBeltrami\",\n",
    "         \"Dist\":\"locally\\nEuclidean\", \n",
    "         \"Euclidean\":\"point-wise\\nEuclidean\", \n",
    "         \"MCF\":\"mean\\ncurvature\"}\n",
    "    return pref2lab[gen_prefix]\n",
    "\n",
    "def generate_diffusion_distance_boxplots(root, names_prefixes, ti, yscale=\"linear\"):\n",
    "    diffusion_data = {}\n",
    "    for fname in names_prefixes:\n",
    "      absname = os.path.join(root, fname+\"_diff_dist.pt\")\n",
    "      with open(absname, \"rb\") as f:\n",
    "        diffusion_data[fname] = pickle.load(f)\n",
    "    \n",
    "    boxdata = np.stack([diffusion_data[name][:,ti] for name in names_prefixes], axis=1)\n",
    "    labels = [prefix2label(prefix) for prefix in names_prefixes]\n",
    "    xlab = \"Distortion Functions\"\n",
    "    ylab = \"Diffusion distance mse\"\n",
    "    title = \"Diffusion Distance MSE\"\n",
    "    savefile = \"../../Dropbox/LaTeX/master-thesis/img/diff_dist_{}.png\".format(ti)\n",
    "    boxplot(boxdata, labels, title, ylab, xlab, savefile, yscale=yscale)"
   ]
  },
  {
   "cell_type": "code",
   "execution_count": null,
   "metadata": {},
   "outputs": [],
   "source": [
    "root = \"../model_data/diff_dist\"\n",
    "filenames = [\"Spectral\", \"MCF\", \"Dist\", \"Euclidean\"]\n",
    "generate_diffusion_distance_boxplots(root, filenames, ti=2, yscale=\"log\")\n"
   ]
  },
  {
   "cell_type": "code",
   "execution_count": null,
   "metadata": {},
   "outputs": [],
   "source": [
    "diffusion_data = {}\n",
    "for fname in filenames:\n",
    "  absname = os.path.join(root, fname+\"_diff_dist.pt\")\n",
    "  with open(absname, \"rb\") as f:\n",
    "    diffusion_data[fname] = pickle.load(f)\n",
    "\n",
    "boxplot(diffusion_data[\"Euclidean\"][1])"
   ]
  },
  {
   "cell_type": "code",
   "execution_count": null,
   "metadata": {},
   "outputs": [],
   "source": [
    "import os\n",
    "import pickle\n",
    "import matplotlib.pyplot as plt\n",
    "from mesh.laplacian import LB_v2\n",
    "\n",
    "\n",
    "def compute_euclidean(pos, perturbed_pos, a):\n",
    "    z=torch.norm(pos-perturbed_pos, p=2, dim=-1)\n",
    "    return (z*a).sum(;\n",
    "\n",
    "def euclidean_statistics(adv_data):\n",
    "    out = []\n",
    "    areas={}\n",
    "    for (idx, target), data in adv_data.items():\n",
    "        print(\"processing \", idx,\":\",target)\n",
    "        pos = torch.tensor(data[\"positions\"],dtype=torch.double)\n",
    "        ppos = torch.tensor(data[\"perturbed-positions\"],dtype=torch.double)\n",
    "        \n",
    "        if idx not in areas:\n",
    "            _, (_, a) = LB_v2(pos, faces)\n",
    "            areas[idx] = a\n",
    "\n",
    "        out.append(compute_euclidean(pos,ppos, a).numpy())\n",
    "    return  np.array(out)\n",
    "\n",
    "root = \"../model_data/adv_data\"\n",
    "filenames = [\"Spectral\", \"MCF\", \"Dist\", \"Euclidean\"]\n",
    "faces = data[0].face.t()\n",
    "\n",
    "generators_data = {}\n",
    "for fname in filenames:\n",
    "  absname = os.path.join(root, fname+\"AdversarialGenerator.pt\")\n",
    "  with open(absname, \"rb\") as f:\n",
    "    generators_data[fname] = pickle.load(f)\n",
    "    \n",
    "processed_data = {}\n",
    "for gname, adv_data in generators_data.items():\n",
    "    print(gname)\n",
    "    processed_data[gname] = euclidean_statistics(adv_data)\n",
    "    "
   ]
  },
  {
   "cell_type": "code",
   "execution_count": null,
   "metadata": {},
   "outputs": [],
   "source": [
    "boxdata = [processed_data[\"Spectral\"],  processed_data[\"Dist\"], processed_data[\"Euclidean\"],processed_data[\"MCF\"]]\n",
    "labels = [\"Laplace-\\nBeltrami\",\"locally\\nEuclidean\", \"point-wise\\nEuclidean\", \"mean\\ncurvature\"]\n",
    "xlab = \"Distortion Functions\"\n",
    "ylab = \"Euclidean error\"\n",
    "title = \"Euclidean Error\"\n",
    "savefile = \"../../Dropbox/LaTeX/master-thesis/img/euclidean.png\"\n",
    "boxplot(boxdata, labels,title, ylab,xlab,savefile)"
   ]
  },
  {
   "cell_type": "code",
   "execution_count": null,
   "metadata": {},
   "outputs": [],
   "source": [
    "root = \"../model_data/\"\n",
    "savefile = \"../../Dropbox/LaTeX/master-thesis/img/gerror.png\"\n",
    "filenames = [\"Spectral\", \"MCF\", \"Dist\", \"Euclidean\"]\n",
    "\n",
    "gerror =scipy.io.loadmat(root+\"geodesic_error\", struct_as_record=False)[\"geodesic_error_struct\"][0,0]\n",
    "L = np.concatenate([getattr(gerror, attr) for attr in filenames], axis=1)\n",
    "\n",
    "labels = [prefix2label(prefix) for prefix in filenames]\n",
    "boxplot(\n",
    "    boxdata = L/(6890**2),\n",
    "    labels = labels,\n",
    "    title = \"Geodesic Error\",\n",
    "    ylabel = \"mean geodesic error\",\n",
    "    xlabel = \"Distortion Functions\",\n",
    "    savefile=savefile)\n",
    "\n"
   ]
  },
  {
   "cell_type": "markdown",
   "metadata": {},
   "source": [
    "# Other"
   ]
  },
  {
   "cell_type": "code",
   "execution_count": 62,
   "metadata": {},
   "outputs": [],
   "source": [
    "pos = data[0].pos\n",
    "faces = data[0].face.t()\n",
    "t = 0.01\n",
    "eigvals,eigvecs = utils.eigenpairs(pos,faces,K=300)\n",
    "hk = utils.heat_kernel(eigvals,eigvecs,t=t)"
   ]
  },
  {
   "cell_type": "code",
   "execution_count": null,
   "metadata": {},
   "outputs": [],
   "source": [
    "vi = 3000\n",
    "lb,ub =-1e-6,1e-4\n",
    "p = hk[vi,:]/hk[vi,:].sum()\n",
    "c = (p<=ub)*(p>=lb)\n",
    "visualize(pos, faces, p)"
   ]
  },
  {
   "cell_type": "code",
   "execution_count": 63,
   "metadata": {},
   "outputs": [
    {
     "name": "stderr",
     "output_type": "stream",
     "text": [
      "\n",
      "  0%|                                                                                           | 0/30 [00:00<?, ?it/s]\u001b[A\n",
      "  3%|██▊                                                                                | 1/30 [00:00<00:22,  1.30it/s]\u001b[A\n",
      "  7%|█████▌                                                                             | 2/30 [00:01<00:21,  1.31it/s]\u001b[A\n",
      " 10%|████████▎                                                                          | 3/30 [00:02<00:20,  1.32it/s]\u001b[A\n",
      " 13%|███████████                                                                        | 4/30 [00:03<00:20,  1.28it/s]\u001b[A\n",
      " 17%|█████████████▊                                                                     | 5/30 [00:03<00:19,  1.30it/s]\u001b[A\n",
      " 20%|████████████████▌                                                                  | 6/30 [00:04<00:18,  1.29it/s]\u001b[A\n",
      " 23%|███████████████████▎                                                               | 7/30 [00:05<00:17,  1.31it/s]\u001b[A\n",
      " 27%|██████████████████████▏                                                            | 8/30 [00:06<00:16,  1.32it/s]\u001b[A\n",
      " 30%|████████████████████████▉                                                          | 9/30 [00:06<00:15,  1.32it/s]\u001b[A\n",
      " 33%|███████████████████████████▎                                                      | 10/30 [00:07<00:15,  1.32it/s]\u001b[A\n",
      " 37%|██████████████████████████████                                                    | 11/30 [00:08<00:14,  1.30it/s]\u001b[A\n",
      " 40%|████████████████████████████████▊                                                 | 12/30 [00:09<00:13,  1.29it/s]\u001b[A\n",
      " 43%|███████████████████████████████████▌                                              | 13/30 [00:09<00:13,  1.29it/s]\u001b[A\n",
      " 47%|██████████████████████████████████████▎                                           | 14/30 [00:10<00:12,  1.30it/s]\u001b[A\n",
      " 50%|█████████████████████████████████████████                                         | 15/30 [00:11<00:11,  1.31it/s]\u001b[A\n",
      " 53%|███████████████████████████████████████████▋                                      | 16/30 [00:12<00:10,  1.28it/s]\u001b[A\n",
      " 57%|██████████████████████████████████████████████▍                                   | 17/30 [00:13<00:10,  1.27it/s]\u001b[A\n",
      " 60%|█████████████████████████████████████████████████▏                                | 18/30 [00:13<00:09,  1.29it/s]\u001b[A\n",
      " 63%|███████████████████████████████████████████████████▉                              | 19/30 [00:14<00:08,  1.30it/s]\u001b[A\n",
      " 67%|██████████████████████████████████████████████████████▋                           | 20/30 [00:15<00:07,  1.31it/s]\u001b[A\n",
      " 70%|█████████████████████████████████████████████████████████▍                        | 21/30 [00:16<00:06,  1.32it/s]\u001b[A\n",
      " 73%|████████████████████████████████████████████████████████████▏                     | 22/30 [00:16<00:06,  1.29it/s]\u001b[A\n",
      " 77%|██████████████████████████████████████████████████████████████▊                   | 23/30 [00:17<00:05,  1.23it/s]\u001b[A\n",
      " 80%|█████████████████████████████████████████████████████████████████▌                | 24/30 [00:18<00:04,  1.23it/s]\u001b[A\n",
      " 83%|████████████████████████████████████████████████████████████████████▎             | 25/30 [00:19<00:04,  1.24it/s]\u001b[A\n",
      " 87%|███████████████████████████████████████████████████████████████████████           | 26/30 [00:20<00:03,  1.25it/s]\u001b[A\n",
      " 90%|█████████████████████████████████████████████████████████████████████████▊        | 27/30 [00:20<00:02,  1.27it/s]\u001b[A\n",
      " 93%|████████████████████████████████████████████████████████████████████████████▌     | 28/30 [00:21<00:01,  1.28it/s]\u001b[A\n",
      " 97%|███████████████████████████████████████████████████████████████████████████████▎  | 29/30 [00:22<00:00,  1.25it/s]\u001b[A\n",
      "100%|██████████████████████████████████████████████████████████████████████████████████| 30/30 [00:23<00:00,  1.28it/s]\u001b[A\n"
     ]
    },
    {
     "ename": "RuntimeError",
     "evalue": "bitxor is only supported for integer type tensors at C:\\w\\1\\s\\tmp_conda_3.7_112106\\conda\\conda-bld\\pytorch_1572952932150\\work\\aten\\src\\TH/generic/THTensorMath.cpp:134",
     "output_type": "error",
     "traceback": [
      "\u001b[1;31m---------------------------------------------------------------------------\u001b[0m",
      "\u001b[1;31mRuntimeError\u001b[0m                              Traceback (most recent call last)",
      "\u001b[1;32m<ipython-input-63-3f83f36e022f>\u001b[0m in \u001b[0;36m<module>\u001b[1;34m\u001b[0m\n\u001b[0;32m      3\u001b[0m \u001b[0mhk\u001b[0m \u001b[1;33m=\u001b[0m \u001b[0mutils\u001b[0m\u001b[1;33m.\u001b[0m\u001b[0mheat_kernel\u001b[0m\u001b[1;33m(\u001b[0m\u001b[0meigvals\u001b[0m\u001b[1;33m,\u001b[0m\u001b[0meigvecs\u001b[0m\u001b[1;33m,\u001b[0m \u001b[0mt\u001b[0m\u001b[1;33m=\u001b[0m\u001b[1;36m2\u001b[0m\u001b[1;33m*\u001b[0m\u001b[0mt\u001b[0m\u001b[1;33m)\u001b[0m\u001b[1;33m\u001b[0m\u001b[1;33m\u001b[0m\u001b[0m\n\u001b[0;32m      4\u001b[0m \u001b[1;33m\u001b[0m\u001b[0m\n\u001b[1;32m----> 5\u001b[1;33m \u001b[0mdiag\u001b[0m \u001b[1;33m=\u001b[0m \u001b[0mtorch\u001b[0m\u001b[1;33m.\u001b[0m\u001b[0mdiag\u001b[0m\u001b[1;33m(\u001b[0m\u001b[0mhk\u001b[0m\u001b[1;33m)\u001b[0m\u001b[1;33m^\u001b[0m\u001b[1;36m2\u001b[0m\u001b[1;33m\u001b[0m\u001b[1;33m\u001b[0m\u001b[0m\n\u001b[0m\u001b[0;32m      6\u001b[0m \u001b[0mtmp\u001b[0m \u001b[1;33m=\u001b[0m \u001b[0mdiag\u001b[0m\u001b[1;33m.\u001b[0m\u001b[0mview\u001b[0m\u001b[1;33m(\u001b[0m\u001b[1;33m-\u001b[0m\u001b[1;36m1\u001b[0m\u001b[1;33m,\u001b[0m\u001b[1;36m1\u001b[0m\u001b[1;33m)\u001b[0m\u001b[1;33m*\u001b[0m\u001b[0mhk\u001b[0m \u001b[1;33m+\u001b[0m \u001b[0mdiag\u001b[0m\u001b[1;33m.\u001b[0m\u001b[0mview\u001b[0m\u001b[1;33m(\u001b[0m\u001b[1;36m1\u001b[0m\u001b[1;33m,\u001b[0m\u001b[1;33m-\u001b[0m\u001b[1;36m1\u001b[0m\u001b[1;33m)\u001b[0m\u001b[1;33m*\u001b[0m\u001b[0mhk\u001b[0m \u001b[1;33m-\u001b[0m \u001b[0mhk\u001b[0m\u001b[1;33m\u001b[0m\u001b[1;33m\u001b[0m\u001b[0m\n\u001b[0;32m      7\u001b[0m \u001b[0mvisualize\u001b[0m\u001b[1;33m(\u001b[0m\u001b[0mpos\u001b[0m\u001b[1;33m,\u001b[0m \u001b[0mfaces\u001b[0m\u001b[1;33m,\u001b[0m \u001b[0md\u001b[0m\u001b[1;33m[\u001b[0m\u001b[1;36m3000\u001b[0m\u001b[1;33m]\u001b[0m\u001b[1;33m)\u001b[0m\u001b[1;33m\u001b[0m\u001b[1;33m\u001b[0m\u001b[0m\n",
      "\u001b[1;31mRuntimeError\u001b[0m: bitxor is only supported for integer type tensors at C:\\w\\1\\s\\tmp_conda_3.7_112106\\conda\\conda-bld\\pytorch_1572952932150\\work\\aten\\src\\TH/generic/THTensorMath.cpp:134"
     ]
    }
   ],
   "source": [
    "e1,e2 = utils.eigenpairs(pos,faces,K=30)\n",
    "d = utils.diffusion_distance(e1,e2,t)\n",
    "hk = utils.heat_kernel(e1,e2, t=2*t)\n"
   ]
  },
  {
   "cell_type": "code",
   "execution_count": null,
   "metadata": {},
   "outputs": [],
   "source": [
    "diag = torch.diag(hk)\n",
    "print(diag.shape)\n",
    "\n",
    "tmp = diag.repeat(pos.shape[0], 1)\n",
    "d2 = tmp + tmp.t() -2*hk\n",
    "\n",
    "visualize(pos, faces, d[3000,:])\n",
    "visualize(pos, faces, d2[3000,:])\n",
    "visualize(pos, faces, d[3000,:]-d2[3000,:])"
   ]
  }
 ],
 "metadata": {
  "kernelspec": {
   "display_name": "Python 3",
   "language": "python",
   "name": "python3"
  },
  "language_info": {
   "codemirror_mode": {
    "name": "ipython",
    "version": 3
   },
   "file_extension": ".py",
   "mimetype": "text/x-python",
   "name": "python",
   "nbconvert_exporter": "python",
   "pygments_lexer": "ipython3",
   "version": "3.7.3"
  }
 },
 "nbformat": 4,
 "nbformat_minor": 4
}
