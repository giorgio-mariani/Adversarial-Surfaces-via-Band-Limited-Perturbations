{
 "cells": [
  {
   "cell_type": "code",
   "execution_count": null,
   "metadata": {},
   "outputs": [],
   "source": [
    "%load_ext autoreload\n",
    "%autoreload 2\n",
    "\n",
    "# built-in libraries\n",
    "import os \n",
    "\n",
    "# third party libraries\n",
    "import matplotlib.pyplot as plt \n",
    "import numpy as np\n",
    "import tqdm\n",
    "import torch \n",
    "import torch.nn.functional as func\n",
    "\n",
    "# repository modules\n",
    "import models\n",
    "import train\n",
    "import adversarial.carlini_wagner as cw\n",
    "import adversarial.pgd as pgd\n",
    "import dataset\n",
    "import utils\n",
    "\n",
    "REPO_ROOT = os.path.join(os.path.dirname(os.path.realpath('__file__')),\"..\")\n",
    "SMAL = os.path.join(REPO_ROOT,\"datasets/smal\")\n",
    "PARAMS_FILE = os.path.join(REPO_ROOT, \"model_data/smal_data.pt\")\n",
    "\n",
    "traindata = dataset.SmalDataset(SMAL, train=True, test=True)"
   ]
  },
  {
   "cell_type": "code",
   "execution_count": null,
   "metadata": {},
   "outputs": [],
   "source": [
    "model = models.ChebnetClassifier(\n",
    "    param_conv_layers=[128,128,64,32],\n",
    "    D_t = traindata.downscale_matrices,\n",
    "    E_t = traindata.downscaled_edges,\n",
    "    num_classes = traindata.num_classes,\n",
    "    parameters_file=PARAMS_FILE)"
   ]
  },
  {
   "cell_type": "code",
   "execution_count": 28,
   "metadata": {},
   "outputs": [
    {
     "name": "stderr",
     "output_type": "stream",
     "text": [
      "\n",
      "  0%|                                                                                           | 0/49 [00:00<?, ?it/s]\u001b[A"
     ]
    },
    {
     "name": "stdout",
     "output_type": "stream",
     "text": [
      "epoch 1 of 2\n"
     ]
    },
    {
     "name": "stderr",
     "output_type": "stream",
     "text": [
      "\n",
      "  2%|█▋                                                                                 | 1/49 [00:00<00:21,  2.28it/s]\u001b[A\n",
      "  4%|███▍                                                                               | 2/49 [00:00<00:20,  2.26it/s]\u001b[A\n",
      "  6%|█████                                                                              | 3/49 [00:01<00:20,  2.22it/s]\u001b[A\n",
      "  8%|██████▊                                                                            | 4/49 [00:01<00:21,  2.14it/s]\u001b[A\n",
      " 10%|████████▍                                                                          | 5/49 [00:02<00:20,  2.20it/s]\u001b[A\n",
      " 12%|██████████▏                                                                        | 6/49 [00:02<00:19,  2.20it/s]\u001b[A\n",
      " 14%|███████████▊                                                                       | 7/49 [00:03<00:18,  2.25it/s]\u001b[A\n",
      " 16%|█████████████▌                                                                     | 8/49 [00:03<00:18,  2.19it/s]\u001b[A\n",
      " 18%|███████████████▏                                                                   | 9/49 [00:04<00:18,  2.22it/s]\u001b[A\n",
      " 20%|████████████████▋                                                                 | 10/49 [00:04<00:18,  2.15it/s]\u001b[A\n",
      " 22%|██████████████████▍                                                               | 11/49 [00:04<00:16,  2.24it/s]\u001b[A\n",
      " 24%|████████████████████                                                              | 12/49 [00:05<00:16,  2.22it/s]\u001b[A\n",
      " 27%|█████████████████████▊                                                            | 13/49 [00:05<00:16,  2.14it/s]\u001b[A\n",
      " 29%|███████████████████████▍                                                          | 14/49 [00:06<00:16,  2.13it/s]\u001b[A\n",
      " 31%|█████████████████████████                                                         | 15/49 [00:06<00:15,  2.18it/s]\u001b[A\n",
      " 33%|██████████████████████████▊                                                       | 16/49 [00:07<00:15,  2.15it/s]\u001b[A\n",
      " 35%|████████████████████████████▍                                                     | 17/49 [00:07<00:14,  2.15it/s]\u001b[A\n",
      " 37%|██████████████████████████████                                                    | 18/49 [00:08<00:14,  2.20it/s]\u001b[A\n",
      " 39%|███████████████████████████████▊                                                  | 19/49 [00:08<00:13,  2.21it/s]\u001b[A\n",
      " 41%|█████████████████████████████████▍                                                | 20/49 [00:09<00:13,  2.15it/s]\u001b[A\n",
      " 43%|███████████████████████████████████▏                                              | 21/49 [00:09<00:13,  2.13it/s]\u001b[A\n",
      " 45%|████████████████████████████████████▊                                             | 22/49 [00:10<00:12,  2.18it/s]\u001b[A\n",
      " 47%|██████████████████████████████████████▍                                           | 23/49 [00:10<00:12,  2.15it/s]\u001b[A\n",
      " 49%|████████████████████████████████████████▏                                         | 24/49 [00:11<00:11,  2.15it/s]\u001b[A\n",
      " 51%|█████████████████████████████████████████▊                                        | 25/49 [00:11<00:10,  2.19it/s]\u001b[A\n",
      " 53%|███████████████████████████████████████████▌                                      | 26/49 [00:11<00:10,  2.21it/s]\u001b[A\n",
      " 55%|█████████████████████████████████████████████▏                                    | 27/49 [00:12<00:10,  2.17it/s]\u001b[A\n",
      " 57%|██████████████████████████████████████████████▊                                   | 28/49 [00:12<00:09,  2.12it/s]\u001b[A\n",
      " 59%|████████████████████████████████████████████████▌                                 | 29/49 [00:13<00:09,  2.17it/s]\u001b[A\n",
      " 61%|██████████████████████████████████████████████████▏                               | 30/49 [00:13<00:09,  2.06it/s]\u001b[A\n",
      " 63%|███████████████████████████████████████████████████▉                              | 31/49 [00:14<00:08,  2.10it/s]\u001b[A\n",
      " 65%|█████████████████████████████████████████████████████▌                            | 32/49 [00:14<00:08,  2.05it/s]\u001b[A\n",
      " 67%|███████████████████████████████████████████████████████▏                          | 33/49 [00:15<00:07,  2.09it/s]\u001b[A\n",
      " 69%|████████████████████████████████████████████████████████▉                         | 34/49 [00:15<00:07,  2.07it/s]\u001b[A\n",
      " 71%|██████████████████████████████████████████████████████████▌                       | 35/49 [00:16<00:06,  2.07it/s]\u001b[A\n",
      " 73%|████████████████████████████████████████████████████████████▏                     | 36/49 [00:16<00:06,  1.99it/s]\u001b[A\n",
      " 76%|█████████████████████████████████████████████████████████████▉                    | 37/49 [00:17<00:05,  2.02it/s]\u001b[A\n",
      " 78%|███████████████████████████████████████████████████████████████▌                  | 38/49 [00:17<00:05,  2.04it/s]\u001b[A\n",
      " 80%|█████████████████████████████████████████████████████████████████▎                | 39/49 [00:18<00:04,  2.04it/s]\u001b[A\n",
      " 82%|██████████████████████████████████████████████████████████████████▉               | 40/49 [00:18<00:04,  2.02it/s]\u001b[A\n",
      " 84%|████████████████████████████████████████████████████████████████████▌             | 41/49 [00:19<00:04,  1.82it/s]\u001b[A\n",
      " 86%|██████████████████████████████████████████████████████████████████████▎           | 42/49 [00:20<00:03,  1.80it/s]\u001b[A\n",
      " 88%|███████████████████████████████████████████████████████████████████████▉          | 43/49 [00:20<00:03,  1.84it/s]\u001b[A\n",
      " 90%|█████████████████████████████████████████████████████████████████████████▋        | 44/49 [00:21<00:02,  1.79it/s]\u001b[A\n",
      " 92%|███████████████████████████████████████████████████████████████████████████▎      | 45/49 [00:21<00:02,  1.73it/s]\u001b[A\n",
      " 94%|████████████████████████████████████████████████████████████████████████████▉     | 46/49 [00:22<00:01,  1.80it/s]\u001b[A\n",
      " 96%|██████████████████████████████████████████████████████████████████████████████▋   | 47/49 [00:22<00:01,  1.88it/s]\u001b[A\n",
      " 98%|████████████████████████████████████████████████████████████████████████████████▎ | 48/49 [00:23<00:00,  1.94it/s]\u001b[A\n",
      "100%|██████████████████████████████████████████████████████████████████████████████████| 49/49 [00:23<00:00,  2.06it/s]\u001b[A\n",
      "\n",
      "  0%|                                                                                           | 0/49 [00:00<?, ?it/s]\u001b[A"
     ]
    },
    {
     "name": "stdout",
     "output_type": "stream",
     "text": [
      "epoch 2 of 2\n"
     ]
    },
    {
     "name": "stderr",
     "output_type": "stream",
     "text": [
      "\n",
      "  2%|█▋                                                                                 | 1/49 [00:00<00:23,  2.03it/s]\u001b[A\n",
      "  4%|███▍                                                                               | 2/49 [00:01<00:24,  1.94it/s]\u001b[A\n",
      "  6%|█████                                                                              | 3/49 [00:01<00:23,  1.93it/s]\u001b[A\n",
      "  8%|██████▊                                                                            | 4/49 [00:02<00:23,  1.91it/s]\u001b[A\n",
      " 10%|████████▍                                                                          | 5/49 [00:02<00:22,  1.93it/s]\u001b[A\n",
      " 12%|██████████▏                                                                        | 6/49 [00:03<00:22,  1.93it/s]\u001b[A\n",
      " 14%|███████████▊                                                                       | 7/49 [00:03<00:21,  1.98it/s]\u001b[A\n",
      " 16%|█████████████▌                                                                     | 8/49 [00:04<00:20,  2.01it/s]\u001b[A\n",
      " 18%|███████████████▏                                                                   | 9/49 [00:04<00:19,  2.06it/s]\u001b[A\n",
      " 20%|████████████████▋                                                                 | 10/49 [00:05<00:18,  2.06it/s]\u001b[A\n",
      " 22%|██████████████████▍                                                               | 11/49 [00:05<00:18,  2.05it/s]\u001b[A\n",
      " 24%|████████████████████                                                              | 12/49 [00:06<00:18,  2.03it/s]\u001b[A\n",
      " 27%|█████████████████████▊                                                            | 13/49 [00:06<00:17,  2.06it/s]\u001b[A\n",
      " 29%|███████████████████████▍                                                          | 14/49 [00:06<00:17,  2.05it/s]\u001b[A\n",
      " 31%|█████████████████████████                                                         | 15/49 [00:07<00:17,  1.98it/s]\u001b[A\n",
      " 33%|██████████████████████████▊                                                       | 16/49 [00:08<00:16,  2.01it/s]\u001b[A\n",
      " 35%|████████████████████████████▍                                                     | 17/49 [00:08<00:15,  2.03it/s]\u001b[A\n",
      " 37%|██████████████████████████████                                                    | 18/49 [00:09<00:18,  1.64it/s]\u001b[A\n",
      " 39%|███████████████████████████████▊                                                  | 19/49 [00:09<00:16,  1.77it/s]\u001b[A\n",
      " 41%|█████████████████████████████████▍                                                | 20/49 [00:10<00:15,  1.92it/s]\u001b[A\n",
      " 43%|███████████████████████████████████▏                                              | 21/49 [00:10<00:14,  2.00it/s]\u001b[A\n",
      " 45%|████████████████████████████████████▊                                             | 22/49 [00:11<00:13,  2.00it/s]\u001b[A\n",
      " 47%|██████████████████████████████████████▍                                           | 23/49 [00:11<00:12,  2.03it/s]\u001b[A\n",
      " 49%|████████████████████████████████████████▏                                         | 24/49 [00:12<00:12,  2.01it/s]\u001b[A\n",
      " 51%|█████████████████████████████████████████▊                                        | 25/49 [00:12<00:12,  1.93it/s]\u001b[A\n",
      " 53%|███████████████████████████████████████████▌                                      | 26/49 [00:13<00:13,  1.73it/s]\u001b[A\n",
      " 55%|█████████████████████████████████████████████▏                                    | 27/49 [00:14<00:12,  1.78it/s]\u001b[A\n",
      " 57%|██████████████████████████████████████████████▊                                   | 28/49 [00:14<00:11,  1.86it/s]\u001b[A\n",
      " 59%|████████████████████████████████████████████████▌                                 | 29/49 [00:15<00:10,  1.86it/s]\u001b[A\n",
      " 61%|██████████████████████████████████████████████████▏                               | 30/49 [00:15<00:10,  1.73it/s]\u001b[A\n",
      " 63%|███████████████████████████████████████████████████▉                              | 31/49 [00:16<00:10,  1.79it/s]\u001b[A\n",
      " 65%|█████████████████████████████████████████████████████▌                            | 32/49 [00:16<00:09,  1.81it/s]\u001b[A\n",
      " 67%|███████████████████████████████████████████████████████▏                          | 33/49 [00:17<00:09,  1.73it/s]\u001b[A\n",
      " 69%|████████████████████████████████████████████████████████▉                         | 34/49 [00:17<00:08,  1.79it/s]\u001b[A\n",
      " 71%|██████████████████████████████████████████████████████████▌                       | 35/49 [00:18<00:07,  1.86it/s]\u001b[A\n",
      " 73%|████████████████████████████████████████████████████████████▏                     | 36/49 [00:18<00:06,  1.89it/s]\u001b[A\n",
      " 76%|█████████████████████████████████████████████████████████████▉                    | 37/49 [00:19<00:06,  1.93it/s]\u001b[A\n",
      " 78%|███████████████████████████████████████████████████████████████▌                  | 38/49 [00:19<00:05,  1.95it/s]\u001b[A\n",
      " 80%|█████████████████████████████████████████████████████████████████▎                | 39/49 [00:20<00:05,  1.92it/s]\u001b[A\n",
      " 82%|██████████████████████████████████████████████████████████████████▉               | 40/49 [00:20<00:04,  1.94it/s]\u001b[A\n",
      " 84%|████████████████████████████████████████████████████████████████████▌             | 41/49 [00:21<00:04,  1.93it/s]\u001b[A\n",
      " 86%|██████████████████████████████████████████████████████████████████████▎           | 42/49 [00:22<00:03,  1.82it/s]\u001b[A\n",
      " 88%|███████████████████████████████████████████████████████████████████████▉          | 43/49 [00:22<00:03,  1.67it/s]\u001b[A\n",
      " 90%|█████████████████████████████████████████████████████████████████████████▋        | 44/49 [00:23<00:02,  1.73it/s]\u001b[A\n",
      " 92%|███████████████████████████████████████████████████████████████████████████▎      | 45/49 [00:23<00:02,  1.79it/s]\u001b[A\n",
      " 94%|████████████████████████████████████████████████████████████████████████████▉     | 46/49 [00:24<00:02,  1.45it/s]\u001b[A\n",
      " 96%|██████████████████████████████████████████████████████████████████████████████▋   | 47/49 [00:25<00:01,  1.55it/s]\u001b[A\n",
      " 98%|████████████████████████████████████████████████████████████████████████████████▎ | 48/49 [00:25<00:00,  1.62it/s]\u001b[A\n",
      "100%|██████████████████████████████████████████████████████████████████████████████████| 49/49 [00:26<00:00,  1.86it/s]\u001b[A\n"
     ]
    },
    {
     "data": {
      "image/png": "[encoded data removed]",
      "text/plain": [
       "<Figure size 432x288 with 1 Axes>"
      ]
     },
     "metadata": {
      "needs_background": "light"
     },
     "output_type": "display_data"
    },
    {
     "name": "stderr",
     "output_type": "stream",
     "text": [
      "\n",
      "  0%|                                                                                           | 0/49 [00:00<?, ?it/s]\u001b[A\n",
      "  2%|█▋                                                                                 | 1/49 [00:00<00:07,  6.73it/s]\u001b[A\n",
      "  4%|███▍                                                                               | 2/49 [00:00<00:07,  5.93it/s]\u001b[A\n",
      "  6%|█████                                                                              | 3/49 [00:00<00:08,  5.59it/s]\u001b[A\n",
      "  8%|██████▊                                                                            | 4/49 [00:00<00:08,  5.60it/s]\u001b[A\n",
      " 10%|████████▍                                                                          | 5/49 [00:01<00:08,  4.94it/s]\u001b[A\n",
      " 12%|██████████▏                                                                        | 6/49 [00:01<00:08,  5.17it/s]\u001b[A\n",
      " 14%|███████████▊                                                                       | 7/49 [00:01<00:07,  5.45it/s]\u001b[A\n",
      " 16%|█████████████▌                                                                     | 8/49 [00:01<00:06,  5.87it/s]\u001b[A\n",
      " 18%|███████████████▏                                                                   | 9/49 [00:01<00:06,  6.10it/s]\u001b[A\n",
      " 20%|████████████████▋                                                                 | 10/49 [00:01<00:06,  6.05it/s]\u001b[A\n",
      " 22%|██████████████████▍                                                               | 11/49 [00:01<00:06,  6.20it/s]\u001b[A\n",
      " 24%|████████████████████                                                              | 12/49 [00:02<00:05,  6.50it/s]\u001b[A\n",
      " 27%|█████████████████████▊                                                            | 13/49 [00:02<00:05,  6.62it/s]\u001b[A\n",
      " 29%|███████████████████████▍                                                          | 14/49 [00:02<00:05,  6.67it/s]\u001b[A\n",
      " 31%|█████████████████████████                                                         | 15/49 [00:02<00:05,  6.57it/s]\u001b[A\n",
      " 33%|██████████████████████████▊                                                       | 16/49 [00:02<00:05,  6.28it/s]\u001b[A\n",
      " 35%|████████████████████████████▍                                                     | 17/49 [00:02<00:05,  5.78it/s]\u001b[A\n",
      " 37%|██████████████████████████████                                                    | 18/49 [00:03<00:05,  5.84it/s]\u001b[A\n",
      " 39%|███████████████████████████████▊                                                  | 19/49 [00:03<00:05,  5.84it/s]\u001b[A\n",
      " 41%|█████████████████████████████████▍                                                | 20/49 [00:03<00:04,  6.00it/s]\u001b[A\n",
      " 43%|███████████████████████████████████▏                                              | 21/49 [00:03<00:04,  6.06it/s]\u001b[A\n",
      " 45%|████████████████████████████████████▊                                             | 22/49 [00:03<00:04,  6.31it/s]\u001b[A\n",
      " 47%|██████████████████████████████████████▍                                           | 23/49 [00:03<00:04,  6.11it/s]\u001b[A\n",
      " 49%|████████████████████████████████████████▏                                         | 24/49 [00:04<00:04,  6.09it/s]\u001b[A\n",
      " 51%|█████████████████████████████████████████▊                                        | 25/49 [00:04<00:04,  5.35it/s]\u001b[A\n",
      " 53%|███████████████████████████████████████████▌                                      | 26/49 [00:04<00:04,  5.44it/s]\u001b[A\n",
      " 55%|█████████████████████████████████████████████▏                                    | 27/49 [00:04<00:03,  5.61it/s]\u001b[A\n",
      " 57%|██████████████████████████████████████████████▊                                   | 28/49 [00:04<00:03,  5.71it/s]\u001b[A\n",
      " 59%|████████████████████████████████████████████████▌                                 | 29/49 [00:04<00:03,  5.77it/s]\u001b[A\n",
      " 61%|██████████████████████████████████████████████████▏                               | 30/49 [00:05<00:03,  5.70it/s]\u001b[A\n",
      " 63%|███████████████████████████████████████████████████▉                              | 31/49 [00:05<00:03,  5.67it/s]\u001b[A\n",
      " 65%|█████████████████████████████████████████████████████▌                            | 32/49 [00:05<00:02,  5.88it/s]\u001b[A\n",
      " 67%|███████████████████████████████████████████████████████▏                          | 33/49 [00:05<00:02,  5.85it/s]\u001b[A\n",
      " 69%|████████████████████████████████████████████████████████▉                         | 34/49 [00:05<00:02,  6.23it/s]\u001b[A\n",
      " 71%|██████████████████████████████████████████████████████████▌                       | 35/49 [00:06<00:02,  5.31it/s]\u001b[A\n",
      " 73%|████████████████████████████████████████████████████████████▏                     | 36/49 [00:06<00:02,  4.76it/s]\u001b[A\n",
      " 76%|█████████████████████████████████████████████████████████████▉                    | 37/49 [00:06<00:02,  5.09it/s]\u001b[A\n",
      " 78%|███████████████████████████████████████████████████████████████▌                  | 38/49 [00:06<00:02,  5.18it/s]\u001b[A\n",
      " 80%|█████████████████████████████████████████████████████████████████▎                | 39/49 [00:06<00:01,  5.47it/s]\u001b[A\n",
      " 82%|██████████████████████████████████████████████████████████████████▉               | 40/49 [00:07<00:01,  4.54it/s]\u001b[A\n",
      " 84%|████████████████████████████████████████████████████████████████████▌             | 41/49 [00:07<00:01,  4.63it/s]\u001b[A\n",
      " 86%|██████████████████████████████████████████████████████████████████████▎           | 42/49 [00:07<00:01,  5.05it/s]\u001b[A\n",
      " 88%|███████████████████████████████████████████████████████████████████████▉          | 43/49 [00:07<00:01,  5.39it/s]\u001b[A\n",
      " 90%|█████████████████████████████████████████████████████████████████████████▋        | 44/49 [00:07<00:00,  5.43it/s]\u001b[A\n",
      " 92%|███████████████████████████████████████████████████████████████████████████▎      | 45/49 [00:08<00:00,  5.44it/s]\u001b[A\n",
      " 94%|████████████████████████████████████████████████████████████████████████████▉     | 46/49 [00:08<00:00,  5.48it/s]\u001b[A\n",
      " 96%|██████████████████████████████████████████████████████████████████████████████▋   | 47/49 [00:08<00:00,  4.99it/s]\u001b[A\n",
      " 98%|████████████████████████████████████████████████████████████████████████████████▎ | 48/49 [00:08<00:00,  4.96it/s]\u001b[A\n",
      "100%|██████████████████████████████████████████████████████████████████████████████████| 49/49 [00:08<00:00,  5.53it/s]\u001b[A"
     ]
    },
    {
     "name": "stdout",
     "output_type": "stream",
     "text": [
      "tensor(0.3265)\n"
     ]
    },
    {
     "name": "stderr",
     "output_type": "stream",
     "text": [
      "\n"
     ]
    },
    {
     "data": {
      "image/png": "[encoded data removed]",
      "text/plain": [
       "<Figure size 288x288 with 1 Axes>"
      ]
     },
     "metadata": {
      "needs_background": "light"
     },
     "output_type": "display_data"
    }
   ],
   "source": [
    "#train network\n",
    "loss = train.train(\n",
    "    train_data=traindata,\n",
    "    classifier=model,\n",
    "    parameters_file=PARAMS_FILE,\n",
    "    epoch_number=2,\n",
    "    learning_rate=1e-4)\n",
    "plt.plot(loss)\n",
    "plt.show()\n",
    "\n",
    "#compute accuracy\n",
    "accuracy, confusion_matrix = train.evaluate(eval_data=traindata, classifier=model)\n",
    "\n",
    "print(accuracy)\n",
    "plt.matshow(confusion_matrix)\n",
    "plt.show()"
   ]
  },
  {
   "cell_type": "code",
   "execution_count": null,
   "metadata": {},
   "outputs": [],
   "source": [
    "traindata.data.y\n"
   ]
  },
  {
   "cell_type": "code",
   "execution_count": null,
   "metadata": {},
   "outputs": [],
   "source": [
    "import plotly\n",
    "import plotly.graph_objects as go\n",
    "import numpy as np\n",
    "\n",
    "def visualize(pos, faces, intensity=None):\n",
    "  cpu = torch.device(\"cpu\")\n",
    "  if type(pos) != np.ndarray:\n",
    "    pos = pos.to(cpu).clone().detach().numpy()\n",
    "  if pos.shape[-1] != 3:\n",
    "    raise ValueError(\"Vertices positions must have shape [n,3]\")\n",
    "  if type(faces) != np.ndarray:\n",
    "    faces = faces.to(cpu).clone().detach().numpy()\n",
    "  if faces.shape[-1] != 3:\n",
    "    raise ValueError(\"Face indices must have shape [m,3]\") \n",
    "  if intensity is None:\n",
    "    intensity = np.ones([pos.shape[0]])\n",
    "  elif type(intensity) != np.ndarray:\n",
    "    intensity = intensity.to(cpu).clone().detach().numpy()\n",
    "\n",
    "  x, z, y = pos.T\n",
    "  i, j, k = faces.T\n",
    "\n",
    "  mesh = go.Mesh3d(x=x, y=y, z=z,\n",
    "            color='lightpink',\n",
    "            intensity=intensity,\n",
    "            opacity=1,\n",
    "            colorscale=[[0, 'gold'],[0.5, 'mediumturquoise'],[1, 'magenta']],\n",
    "            i=i, j=j, k=k,\n",
    "            showscale=True)\n",
    "  layout = go.Layout(scene=go.layout.Scene(aspectmode=\"data\")) \n",
    "\n",
    "  #pio.renderers.default=\"plotly_mimetype\"\n",
    "  fig = go.Figure(data=[mesh],\n",
    "                  layout=layout)\n",
    "  fig.update_layout(\n",
    "      autosize=True,\n",
    "      margin=dict(l=20, r=20, t=20, b=20),\n",
    "      paper_bgcolor=\"LightSteelBlue\")\n",
    "  fig.show()\n",
    "    \n",
    "def compare(pos1, faces1, pos2, faces2):\n",
    "    n,m = pos1.shape[0], pos2.shape[0]\n",
    "    tmpx = torch.cat([pos1, pos2],dim=0)\n",
    "    tmpf = torch.cat([faces1, faces2+n], dim=0)\n",
    "    color = torch.zeros([n+m],dtype=pos1.dtype, device=pos1.device)\n",
    "    color[n:] = (pos1-pos2).norm(p=2,dim=-1)\n",
    "    visualize(tmpx, tmpf,color)"
   ]
  }
 ],
 "metadata": {
  "kernelspec": {
   "display_name": "Python 3",
   "language": "python",
   "name": "python3"
  },
  "language_info": {
   "codemirror_mode": {
    "name": "ipython",
    "version": 3
   },
   "file_extension": ".py",
   "mimetype": "text/x-python",
   "name": "python",
   "nbconvert_exporter": "python",
   "pygments_lexer": "ipython3",
   "version": "3.7.3"
  }
 },
 "nbformat": 4,
 "nbformat_minor": 4
}
