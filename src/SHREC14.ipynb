{
 "cells": [
  {
   "cell_type": "code",
   "execution_count": 9,
   "metadata": {},
   "outputs": [
    {
     "name": "stdout",
     "output_type": "stream",
     "text": [
      "The autoreload extension is already loaded. To reload it, use:\n",
      "  %reload_ext autoreload\n"
     ]
    },
    {
     "name": "stderr",
     "output_type": "stream",
     "text": [
      "  0%|                                                                                          | 0/320 [00:00<?, ?it/s]"
     ]
    },
    {
     "name": "stdout",
     "output_type": "stream",
     "text": [
      "epoch 1 of 1\n"
     ]
    },
    {
     "name": "stderr",
     "output_type": "stream",
     "text": [
      "100%|████████████████████████████████████████████████████████████████████████████████| 320/320 [02:18<00:00,  2.32it/s]\n",
      "100%|██████████████████████████████████████████████████████████████████████████████████| 80/80 [00:05<00:00, 15.85it/s]\n",
      "100%|██████████████████████████████████████████████████████████████████████████████████| 80/80 [00:05<00:00, 15.80it/s]\n"
     ]
    },
    {
     "name": "stdout",
     "output_type": "stream",
     "text": [
      "tensor(0.1562)\n"
     ]
    },
    {
     "data": {
      "image/png": "[encoded data removed]",
      "text/plain": [
       "<Figure size 288x288 with 1 Axes>"
      ]
     },
     "metadata": {
      "needs_background": "light"
     },
     "output_type": "display_data"
    }
   ],
   "source": [
    "%load_ext autoreload\n",
    "%autoreload 2\n",
    "\n",
    "# built-in libraries\n",
    "import os \n",
    "\n",
    "# third party libraries\n",
    "import torch\n",
    "\n",
    "# local modules\n",
    "import dataset\n",
    "import models\n",
    "import train\n",
    "\n",
    "SHREC14 =  \"../../Downloads/Mesh-Datasets/MyShrec14\"\n",
    "PARAMS_FILE = \"../model_data/SHREC14.pt\"\n",
    "\n",
    "traindata = dataset.Shrec14Dataset(SHREC14, train=True, test=False)\n",
    "testdata = dataset.Shrec14Dataset(SHREC14, train=False, test=True)\n",
    "\n",
    "model = models.chebynet.ChebnetClassifier_SHREC14(\n",
    "        nums_conv_units=[32,32,16,16],\n",
    "        num_classes=traindata.num_classes,\n",
    "        parameters_file=PARAMS_FILE)\n",
    "\n",
    "#train network\n",
    "train.train_SHREC14(\n",
    "    train_data=traindata,\n",
    "    classifier=model,\n",
    "    parameters_file=PARAMS_FILE,\n",
    "    learning_rate=3e-4,\n",
    "    epoch_number=1)\n",
    "\n",
    "accuracy, confusion = train.evaluate_SHREC14(\n",
    "    eval_data=testdata,\n",
    "    classifier=model,\n",
    "    epoch_number=2)\n",
    "\n",
    "import matplotlib.pyplot as plt\n",
    "\n",
    "print(accuracy)\n",
    "plt.matshow(confusion)\n",
    "plt.show()"
   ]
  },
  {
   "cell_type": "code",
   "execution_count": null,
   "metadata": {},
   "outputs": [],
   "source": [
    "import plotly\n",
    "import plotly.graph_objects as go\n",
    "import numpy as np\n",
    "\n",
    "def visualize(pos, faces, intensity=None):\n",
    "  cpu = torch.device(\"cpu\")\n",
    "  if type(pos) != np.ndarray:\n",
    "    pos = pos.to(cpu).clone().detach().numpy()\n",
    "  if pos.shape[-1] != 3:\n",
    "    raise ValueError(\"Vertices positions must have shape [n,3]\")\n",
    "  if type(faces) != np.ndarray:\n",
    "    faces = faces.to(cpu).clone().detach().numpy()\n",
    "  if faces.shape[-1] != 3:\n",
    "    raise ValueError(\"Face indices must have shape [m,3]\") \n",
    "  if intensity is None:\n",
    "    intensity = np.ones([pos.shape[0]])\n",
    "  elif type(intensity) != np.ndarray:\n",
    "    intensity = intensity.to(cpu).clone().detach().numpy()\n",
    "\n",
    "  x, z, y = pos.T\n",
    "  i, j, k = faces.T\n",
    "\n",
    "  mesh = go.Mesh3d(x=x, y=y, z=z,\n",
    "            color='lightpink',\n",
    "            intensity=intensity,\n",
    "            opacity=1,\n",
    "            colorscale=[[0, 'gold'],[0.5, 'mediumturquoise'],[1, 'magenta']],\n",
    "            i=i, j=j, k=k,\n",
    "            showscale=True)\n",
    "  layout = go.Layout(scene=go.layout.Scene(aspectmode=\"data\")) \n",
    "\n",
    "  #pio.renderers.default=\"plotly_mimetype\"\n",
    "  fig = go.Figure(data=[mesh],\n",
    "                  layout=layout)\n",
    "  fig.update_layout(\n",
    "      autosize=True,\n",
    "      margin=dict(l=20, r=20, t=20, b=20),\n",
    "      paper_bgcolor=\"LightSteelBlue\")\n",
    "  fig.show()"
   ]
  },
  {
   "cell_type": "code",
   "execution_count": null,
   "metadata": {},
   "outputs": [],
   "source": [
    "COMA = \"../../Downloads/Mesh-Datasets/MyComaDataset\"\n",
    "\n",
    "Coma = dataset.CoMADataset(COMA, train=True)\n"
   ]
  }
 ],
 "metadata": {
  "kernelspec": {
   "display_name": "Python 3",
   "language": "python",
   "name": "python3"
  },
  "language_info": {
   "codemirror_mode": {
    "name": "ipython",
    "version": 3
   },
   "file_extension": ".py",
   "mimetype": "text/x-python",
   "name": "python",
   "nbconvert_exporter": "python",
   "pygments_lexer": "ipython3",
   "version": "3.7.3"
  }
 },
 "nbformat": 4,
 "nbformat_minor": 4
}
