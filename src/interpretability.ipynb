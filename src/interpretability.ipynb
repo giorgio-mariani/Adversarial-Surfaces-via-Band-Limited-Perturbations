{
 "cells": [
  {
   "cell_type": "code",
   "execution_count": null,
   "metadata": {},
   "outputs": [],
   "source": [
    "%load_ext autoreload\n",
    "%autoreload 2\n",
    "\n",
    "import numpy as np\n",
    "import tqdm\n",
    "import torch \n",
    "import torch.nn.functional as func\n",
    "\n",
    "import faust\n",
    "import models\n",
    "\n",
    "FAUST = \"../../Downloads/Mesh-Datasets/MyFaustDataset\"\n",
    "MODEL_PATH = \"../model_data/data.pt\"\n",
    "\n",
    "dataset = faust.FaustDataset(FAUST)\n",
    "\n",
    "model = models.ChebClassifier(\n",
    "    param_conv_layers=[64,64,32,32],\n",
    "    E_t=dataset.downscaled_edges, \n",
    "    D_t=dataset.downscale_matrices,\n",
    "    num_classes = 10)\n",
    "\n",
    "optimizer = torch.optim.Adam(model.parameters(), lr=1e-3, weight_decay=5e-4)\n",
    "criterion = torch.nn.CrossEntropyLoss()\n",
    "model.load_state_dict(torch.load(MODEL_PATH))"
   ]
  },
  {
   "cell_type": "code",
   "execution_count": null,
   "metadata": {},
   "outputs": [],
   "source": [
    "from torch_geometric.data import Data\n",
    "from torch_geometric.data import Dataset\n",
    "from random import shuffle\n",
    "\n",
    "def avg_pos(dataset:Dataset):\n",
    "    x = torch.zeros(dataset[0].pos.shape)\n",
    "    for data in dataset: x += data.pos\n",
    "    return x/len(dataset)\n",
    "\n",
    "def compute_impact(x:torch.Tensor, f:torch.nn.Module, perturbed_pos:torch.Tensor, num_samples:int):\n",
    "    Z:torch.Tensor = f(x)\n",
    "    impact = -torch.ones([x.shape[0]])\n",
    "    vertex_count = x.shape[0]\n",
    "    vertex_bag = list(range(vertex_count))\n",
    "    shuffle(vertex_bag)\n",
    "    for i in tqdm.trange(num_samples):\n",
    "        vi = vertex_bag[i]\n",
    "        tmp = x[vi,:].clone()\n",
    "        x[vi,:] = perturbed_pos[vi,:]\n",
    "        Z_per = f(x)\n",
    "        x[vi,:] = tmp\n",
    "        impact[vi] = torch.sum((Z-Z_per)**2)\n",
    "    impact = impact/impact.max()\n",
    "    return impact"
   ]
  },
  {
   "cell_type": "code",
   "execution_count": null,
   "metadata": {},
   "outputs": [],
   "source": [
    "#visualize(avg_mesh)\n",
    "mesh = dataset[99]\n",
    "per = torch.rand_like(mesh.pos)*30\n",
    "impact = compute_impact(mesh.pos, f=lambda x: model(x), perturbed_pos=per, num_samples=100)\n",
    "intensity = impact.detach().numpy()\n",
    "visualize(mesh, intensity=intensity)"
   ]
  }
 ],
 "metadata": {
  "kernelspec": {
   "display_name": "Python 3",
   "language": "python",
   "name": "python3"
  },
  "language_info": {
   "codemirror_mode": {
    "name": "ipython",
    "version": 3
   },
   "file_extension": ".py",
   "mimetype": "text/x-python",
   "name": "python",
   "nbconvert_exporter": "python",
   "pygments_lexer": "ipython3",
   "version": "3.7.3"
  }
 },
 "nbformat": 4,
 "nbformat_minor": 4
}
