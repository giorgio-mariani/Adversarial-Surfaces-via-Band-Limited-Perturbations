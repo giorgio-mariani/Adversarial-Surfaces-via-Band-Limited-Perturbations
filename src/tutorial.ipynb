{
 "cells": [
  {
   "cell_type": "markdown",
   "metadata": {},
   "source": [
    "# Tutorial\n",
    "## 1) Targeted Adversarial Examples (Carlini & Wagner and related methods)\n",
    "First, we need to import the necessary modules."
   ]
  },
  {
   "cell_type": "code",
   "execution_count": 3,
   "metadata": {},
   "outputs": [
    {
     "name": "stdout",
     "output_type": "stream",
     "text": [
      "The autoreload extension is already loaded. To reload it, use:\n",
      "  %reload_ext autoreload\n"
     ]
    }
   ],
   "source": [
    "%load_ext autoreload\n",
    "%autoreload 2\n",
    "\n",
    "# built-in libraries\n",
    "import os \n",
    "\n",
    "# third party libraries\n",
    "import matplotlib.pyplot as plt \n",
    "import numpy as np\n",
    "import tqdm\n",
    "import torch \n",
    "import torch.nn.functional as func\n",
    "\n",
    "# repository modules\n",
    "import models\n",
    "import train\n",
    "import dataset\n",
    "import utils"
   ]
  },
  {
   "cell_type": "markdown",
   "metadata": {},
   "source": [
    "The training and test data is loaded in memory using the `dataset` local module. Before using the FAUST dataset download it from [here](http://faust.is.tue.mpg.de/) and place it in `{repository-root}/datasets/faust/raw/`."
   ]
  },
  {
   "cell_type": "code",
   "execution_count": 4,
   "metadata": {},
   "outputs": [
    {
     "name": "stderr",
     "output_type": "stream",
     "text": [
      "C:\\Users\\giorg\\Anaconda3\\envs\\adex\\lib\\site-packages\\torch_geometric\\data\\dataset.py:94: UserWarning: The `pre_transform` argument differs from the one used in the pre-processed version of this dataset. If you really want to make use of another pre-processing technique, make sure to delete `C:\\Users\\giorg\\Adversarial-Examples-on-Meshes\\datasets\\faust\\processed/processed` first.\n",
      "  self.processed_dir))\n"
     ]
    }
   ],
   "source": [
    "REPO_ROOT = os.path.join(os.path.dirname(os.path.realpath('__file__')),\"..\")\n",
    "FAUST = os.path.join(REPO_ROOT,\"datasets/faust\")\n",
    "PARAMS_FILE = os.path.join(REPO_ROOT, \"model_data/data.pt\")\n",
    "\n",
    "traindata = dataset.FaustDataset(FAUST, train=True, test=False, transform_data=True)\n",
    "testdata = dataset.FaustDataset(FAUST, train=False, test=True,  transform_data=True)"
   ]
  },
  {
   "cell_type": "markdown",
   "metadata": {},
   "source": [
    "Then we can define the classifier for the human pose classefication task; download the classifier parameters from [here](https://drive.google.com/open?id=1IllCPPPcqFL3v8BDxCyswzEpxoGyXvMe). Move these parameters in `{repository-root}/model_data/data.pt` ."
   ]
  },
  {
   "cell_type": "code",
   "execution_count": 5,
   "metadata": {},
   "outputs": [],
   "source": [
    "model = models.ChebnetClassifier(\n",
    "    param_conv_layers=[128,128,64,64],\n",
    "    D_t = traindata.downscale_matrices,\n",
    "    E_t = traindata.downscaled_edges,\n",
    "    num_classes = traindata.num_classes,\n",
    "    parameters_file=PARAMS_FILE)"
   ]
  },
  {
   "cell_type": "markdown",
   "metadata": {},
   "source": [
    "Training and evaluation can be done through the `train` local module."
   ]
  },
  {
   "cell_type": "code",
   "execution_count": null,
   "metadata": {},
   "outputs": [],
   "source": [
    "#train network\n",
    "train.train(\n",
    "    train_data=traindata,\n",
    "    classifier=model,\n",
    "    parameters_file=PARAMS_FILE,\n",
    "    epoch_number=0)\n",
    "\n",
    "#compute accuracy\n",
    "accuracy, confusion_matrix = train.evaluate(eval_data=testdata, classifier=model)\n",
    "\n",
    "print(accuracy)\n",
    "plt.matshow(confusion_matrix)\n",
    "plt.show()"
   ]
  },
  {
   "cell_type": "markdown",
   "metadata": {},
   "source": [
    "### Generating Targeted Adversarial Examples"
   ]
  },
  {
   "cell_type": "code",
   "execution_count": null,
   "metadata": {},
   "outputs": [],
   "source": [
    "import adversarial.carlini_wagner as cw\n",
    "from adversarial.carlini_wagner import CWBuilder, generate_adversarial_example # module containing the adversarial targeted algorithm\n",
    "\n",
    "# get a random mesh from the dataset and a random target class\n",
    "import random\n",
    "i = random.randint(0, len(testdata)-1)\n",
    "x = testdata[i].pos\n",
    "e = testdata[i].edge_index.t() # needs to be transposed\n",
    "f = testdata[i].face.t() # needs to be transposed\n",
    "y = testdata[i].y\n",
    "t = random.randint(0, testdata.num_classes-1)\n",
    "eigs_num = 36\n",
    "\n",
    "# configure adversarial example components\n",
    "builder = CWBuilder(search_iterations=1)\n",
    "builder.set_classifier(model)\n",
    "builder.set_mesh(x, e, f)\n",
    "builder.set_target(t)\n",
    "builder.set_similarity_loss(cw.LocalEuclideanSimilarity)\n",
    "params = {\n",
    "    CWBuilder.USETQDM:True,CWBuilder.MIN_IT:100,\n",
    "    CWBuilder.LEARN_RATE:1e-4,CWBuilder.ADV_COEFF:1e-2}\n",
    "\n",
    "adex = builder.build(**params)\n",
    "print(\"adversarial attack: \"+(\"successful\" if adex.is_successful else \"unsuccessful\"))\n"
   ]
  },
  {
   "cell_type": "code",
   "execution_count": null,
   "metadata": {},
   "outputs": [],
   "source": [
    "visualize(adex.perturbed_pos, f, (adex.pos -adex.perturbed_pos).norm(p=2,dim=-1))\n",
    "compare(adex.perturbed_pos, adex.faces, adex.pos, adex.faces)"
   ]
  },
  {
   "cell_type": "markdown",
   "metadata": {},
   "source": [
    "We can finally see the actual adversarial example using **Plotly** (note: you need to install plotly before-hand)"
   ]
  },
  {
   "cell_type": "code",
   "execution_count": null,
   "metadata": {},
   "outputs": [],
   "source": [
    "import plotly\n",
    "import plotly.graph_objects as go\n",
    "import numpy as np\n",
    "\n",
    "def visualize(pos, faces, intensity=None):\n",
    "  cpu = torch.device(\"cpu\")\n",
    "  if type(pos) != np.ndarray:\n",
    "    pos = pos.to(cpu).clone().detach().numpy()\n",
    "  if pos.shape[-1] != 3:\n",
    "    raise ValueError(\"Vertices positions must have shape [n,3]\")\n",
    "  if type(faces) != np.ndarray:\n",
    "    faces = faces.to(cpu).clone().detach().numpy()\n",
    "  if faces.shape[-1] != 3:\n",
    "    raise ValueError(\"Face indices must have shape [m,3]\") \n",
    "  if intensity is None:\n",
    "    intensity = np.ones([pos.shape[0]])\n",
    "  elif type(intensity) != np.ndarray:\n",
    "    intensity = intensity.to(cpu).clone().detach().numpy()\n",
    "\n",
    "  x, z, y = pos.T\n",
    "  i, j, k = faces.T\n",
    "\n",
    "  mesh = go.Mesh3d(x=x, y=y, z=z,\n",
    "            color='lightpink',\n",
    "            intensity=intensity,\n",
    "            opacity=1,\n",
    "            colorscale=[[0, 'gold'],[0.5, 'mediumturquoise'],[1, 'magenta']],\n",
    "            i=i, j=j, k=k,\n",
    "            showscale=True)\n",
    "  layout = go.Layout(scene=go.layout.Scene(aspectmode=\"data\")) \n",
    "\n",
    "  #pio.renderers.default=\"plotly_mimetype\"\n",
    "  fig = go.Figure(data=[mesh],\n",
    "                  layout=layout)\n",
    "  fig.update_layout(\n",
    "      autosize=True,\n",
    "      margin=dict(l=20, r=20, t=20, b=20),\n",
    "      paper_bgcolor=\"LightSteelBlue\")\n",
    "  fig.show()\n",
    "    \n",
    "def compare(pos1, faces1, pos2, faces2):\n",
    "    n,m = pos1.shape[0], pos2.shape[0]\n",
    "    tmpx = torch.cat([pos1, pos2],dim=0)\n",
    "    tmpf = torch.cat([faces1, faces2+n], dim=0)\n",
    "    color = torch.zeros([n+m],dtype=pos1.dtype, device=pos1.device)\n",
    "    color[n:] = (pos1-pos2).norm(p=2,dim=-1)\n",
    "    visualize(tmpx, tmpf,color)"
   ]
  },
  {
   "cell_type": "code",
   "execution_count": null,
   "metadata": {},
   "outputs": [],
   "source": [
    "import random\n",
    "i = random.randint(0, len(testdata)-1)\n",
    "mesh = testdata[i]\n",
    "t = random.randint(0, testdata.num_classes-1)\n",
    "\n",
    "generate_adversarial_example(mesh)\n",
    "visualize(adex.perturbed_pos, f, (x-adex.perturbed_pos).norm(p=2,dim=-1))\n",
    "compare(adex.pos, f, adex.perturbed_pos,f)"
   ]
  },
  {
   "cell_type": "markdown",
   "metadata": {},
   "source": [
    "### Projected Gradient Descent Method"
   ]
  },
  {
   "cell_type": "code",
   "execution_count": null,
   "metadata": {},
   "outputs": [],
   "source": [
    "from os import mkdir, listdir\n",
    "from os.path import exists, join \n",
    "import random\n",
    "import tqdm\n",
    "\n",
    "import adversarial.pgd as pgd\n",
    "import adversarial.carlini_wagner as cw\n",
    "import numpy as np\n",
    "\n",
    "def save_adex(adex, y, filename):\n",
    "  ppos = adex.perturbed_pos.detach().clone().cpu().numpy()\n",
    "  pos = adex.pos.detach().clone().cpu().numpy()\n",
    "  edges = adex.edges.detach().clone().cpu().numpy()\n",
    "  faces = adex.faces.detach().clone().cpu().numpy()\n",
    "  is_successful = adex.is_successful\n",
    "  \n",
    "  data = {\"perturbed-positions\":ppos,\n",
    "   \"positions\":pos,\n",
    "   \"edges\":edges,\n",
    "   \"faces\":faces,\n",
    "    \"y\":y,\n",
    "    \"success\":is_successful,\n",
    "   \"l2\":cw.L2_distortion(adex).item(),\n",
    "   \"arap\":cw.LocallyEuclideanDistortion(K=40)(adex).item()\n",
    "   }\n",
    "  np.save(filename, data, allow_pickle=True)\n",
    "\n",
    "def pgd_experiments(projection_type, builder_type, model, data, folder=\"tmp\"):\n",
    "    projections = {\"lowband\":         pgd.lowband_filter,\n",
    "                  \"lowband-clip\":     lambda a,x: pgd.clip(a, pgd.lowband_filter(a,x)),\n",
    "                  \"lowband-clipnorm\": lambda a,x: pgd.clip_norms(a,pgd.lowband_filter(a,x)),\n",
    "                   \"none\":            lambda y,z : z,\n",
    "                  \"clip\":             pgd.clip,\n",
    "                  \"clipnorm\":         pgd.clip_norms}\n",
    "\n",
    "    builders = {\"sign\":(pgd.PGDBuilder,0.01), \"l2\":(pgd.L2PGDBuilder, 1)}\n",
    "    successes, failures = 0,0\n",
    "    \n",
    "    if not exists(folder):\n",
    "        mkdir(folder)\n",
    "    \n",
    "    for i in tqdm.tqdm(range(len(data))):\n",
    "        x = data[i].pos\n",
    "        e = data[i].edge_index.t()\n",
    "        f = data[i].face.t() \n",
    "        y = data[i].y\n",
    "            \n",
    "        if model(x).argmax() == y:\n",
    "            tmp, alpha = builders[builder_type]\n",
    "            builder = tmp().set_iterations(7).set_epsilon(0.045).set_alpha(alpha).set_eigs_number(50)\n",
    "            builder.set_projection(projections[projection_type])\n",
    "            builder.set_mesh(x,e,f).set_classifier(model)\n",
    "            adex = builder.build(usetqdm=\"standard\")\n",
    "            print(\"successful: {}\".format(adex.is_successful))\n",
    "            #print(\"adversarial example's prediction: {}\".format(model(adex.perturbed_pos).argmax()))\n",
    "            #print(\"ground-truth: {}\".format(model(adex.pos).argmax()))\n",
    "            #visualize(adex.pos, f, (adex.pos-adex.perturbed_pos).norm(dim=-1,p=2))\n",
    "            #compare(adex.pos, f, adex.perturbed_pos, f)\n",
    "            \n",
    "            filename = join(folder, \"adversarial_{}_b{}_p{}\".format(i, builder_type, projection_type))\n",
    "            save_adex(adex, y, filename)\n",
    "            successes +=1\n",
    "        else:\n",
    "            print(\"skip\")\n",
    "            failures +=1\n",
    "    return successes/(successes+failures)\n",
    "\n",
    "\n",
    "pgd_experiments(\"lowband\",\"l2\", model=model, data=testdata, folder=join(REPO_ROOT,\"pgd_tests_l2_lowband\"))\n",
    "pgd_experiments(\"none\",\"l2\", model=model, data=testdata, folder=join(REPO_ROOT,\"pgd_tests_l2\"))\n",
    "\n",
    "pgd_experiments(\"lowband\",\"sign\", model=model, data=testdata, folder=join(REPO_ROOT,\"pgd_tests_sign_lowband\"))\n",
    "pgd_experiments(\"none\", \"sign\", model=model, data=testdata, folder=join(REPO_ROOT,\"pgd_tests_sign\"))\n",
    "                                                                    \n",
    "                                                                    \n",
    "pgd_experiments(\"lowband-clipnorm\",\"l2\", model=model, data=testdata, folder=join(REPO_ROOT,\"pgd_tests_l2_lowband-clipnorm\"))\n",
    "pgd_experiments(\"clipnorm\",\"l2\", model=model, data=testdata, folder=join(REPO_ROOT,\"pgd_tests_l2_clipnorm\"))\n",
    "                                                                    \n",
    "                                                                    \n",
    "pgd_experiments(\"lowband-clipnorm\",\"sign\", model=model, data=testdata, folder=join(REPO_ROOT,\"pgd_tests_sign_lowband-clipnorm\"))\n",
    "pgd_experiments(\"clipnorm\",\"sign\", model=model, data=testdata, folder=join(REPO_ROOT,\"pgd_tests_sign_clipnorm\"))"
   ]
  },
  {
   "cell_type": "markdown",
   "metadata": {},
   "source": [
    "## 2) Untargeted (FSGM and related methods)"
   ]
  },
  {
   "cell_type": "code",
   "execution_count": null,
   "metadata": {},
   "outputs": [],
   "source": [
    "from adversarial.pgd import generate_adversarial_example\n",
    "import random\n",
    "i = random.randint(0, len(testdata)-1)\n",
    "mesh = testdata[i]\n",
    "\n",
    "args = {PGDBuilder.IT:5, \"eigs_num\":36, \"epsilon\":0.03}\n",
    "adex = generate_adversarial_example(mesh, model, alpha=0.03, **args, clip_transform=\"norm\", lowband_transform=\"dynamic\", gradient_transform=\"l2\")\n",
    "\n",
    "visualize(adex.perturbed_pos, f, (adex.pos -adex.perturbed_pos).norm(p=2,dim=-1))\n",
    "print(adex.is_successful)"
   ]
  },
  {
   "cell_type": "code",
   "execution_count": null,
   "metadata": {},
   "outputs": [],
   "source": [
    "from utils.misc import  pos_areas\n",
    "\n",
    "pos = mesh.pos\n",
    "face = mesh.face.t()\n",
    "posareas = pos_areas(pos, face)\n",
    "visualize(pos, face, posareas)\n",
    "\n"
   ]
  }
 ],
 "metadata": {
  "kernelspec": {
   "display_name": "Python 3",
   "language": "python",
   "name": "python3"
  },
  "language_info": {
   "codemirror_mode": {
    "name": "ipython",
    "version": 3
   },
   "file_extension": ".py",
   "mimetype": "text/x-python",
   "name": "python",
   "nbconvert_exporter": "python",
   "pygments_lexer": "ipython3",
   "version": "3.7.3"
  }
 },
 "nbformat": 4,
 "nbformat_minor": 4
}
