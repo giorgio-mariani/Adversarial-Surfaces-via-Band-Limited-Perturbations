{
 "cells": [
  {
   "cell_type": "code",
   "execution_count": 1,
   "metadata": {},
   "outputs": [
    {
     "name": "stdout",
     "output_type": "stream",
     "text": [
      "C:\\Users\\giorg\\Adversarial-Examples-on-Meshes\\src\n"
     ]
    },
    {
     "name": "stderr",
     "output_type": "stream",
     "text": [
      "C:\\Users\\giorg\\Anaconda3\\envs\\adex\\lib\\site-packages\\torch_geometric\\data\\dataset.py:94: UserWarning: The `pre_transform` argument differs from the one used in the pre-processed version of this dataset. If you really want to make use of another pre-processing technique, make sure to delete `..\\datasets\\faust\\processed/processed` first.\n",
      "  self.processed_dir))\n"
     ]
    }
   ],
   "source": [
    "%load_ext autoreload\n",
    "%autoreload 2\n",
    "%cd ../src\n",
    "\n",
    "import os\n",
    "import pickle\n",
    "import matplotlib.pyplot as plt\n",
    "\n",
    "import numpy as np\n",
    "import scipy\n",
    "import tqdm\n",
    "import torch \n",
    "import torch.nn.functional as func\n",
    "\n",
    "import dataset\n",
    "import models\n",
    "import utils\n",
    "import train\n",
    "\n",
    "FAUST = \"../datasets/faust\"\n",
    "MODEL_PATH = \"../model_data/data.pt\"\n",
    "traindata = dataset.FaustDataset(FAUST, train=True,test=False)\n",
    "testdata = dataset.FaustDataset(FAUST, test=True, train=False)"
   ]
  },
  {
   "cell_type": "code",
   "execution_count": 3,
   "metadata": {},
   "outputs": [
    {
     "name": "stderr",
     "output_type": "stream",
     "text": [
      "100%|██████████████████████████████████████████████████████████████████████████████████| 20/20 [00:06<00:00,  2.90it/s]\n",
      "100%|██████████████████████████████████████████████████████████████████████████████████| 20/20 [00:06<00:00,  2.95it/s]\n",
      "100%|██████████████████████████████████████████████████████████████████████████████████| 20/20 [00:06<00:00,  2.92it/s]"
     ]
    },
    {
     "name": "stdout",
     "output_type": "stream",
     "text": [
      "tensor(0.9500)\n"
     ]
    },
    {
     "name": "stderr",
     "output_type": "stream",
     "text": [
      "\n"
     ]
    },
    {
     "ename": "NameError",
     "evalue": "name 'search_iterations' is not defined",
     "output_type": "error",
     "traceback": [
      "\u001b[1;31m---------------------------------------------------------------------------\u001b[0m",
      "\u001b[1;31mNameError\u001b[0m                                 Traceback (most recent call last)",
      "\u001b[1;32m<ipython-input-3-e935bf85475f>\u001b[0m in \u001b[0;36m<module>\u001b[1;34m\u001b[0m\n\u001b[0;32m     11\u001b[0m \u001b[1;33m\u001b[0m\u001b[0m\n\u001b[0;32m     12\u001b[0m \u001b[1;32mimport\u001b[0m \u001b[0madversarial\u001b[0m\u001b[1;33m.\u001b[0m\u001b[0mcarlini_wagner\u001b[0m \u001b[1;32mas\u001b[0m \u001b[0mcw\u001b[0m\u001b[1;33m\u001b[0m\u001b[1;33m\u001b[0m\u001b[0m\n\u001b[1;32m---> 13\u001b[1;33m \u001b[0mbuilder\u001b[0m \u001b[1;33m=\u001b[0m \u001b[0mcw\u001b[0m\u001b[1;33m.\u001b[0m\u001b[0mCWBuilder\u001b[0m\u001b[1;33m(\u001b[0m\u001b[0msearch_iterations\u001b[0m\u001b[1;33m)\u001b[0m\u001b[1;33m.\u001b[0m\u001b[0mset_mesh\u001b[0m\u001b[1;33m(\u001b[0m\u001b[0mmesh\u001b[0m\u001b[1;33m.\u001b[0m\u001b[0mpos\u001b[0m\u001b[1;33m,\u001b[0m \u001b[0mmesh\u001b[0m\u001b[1;33m.\u001b[0m\u001b[0medge_index\u001b[0m\u001b[1;33m.\u001b[0m\u001b[0mt\u001b[0m\u001b[1;33m(\u001b[0m\u001b[1;33m)\u001b[0m\u001b[1;33m,\u001b[0m \u001b[0mmesh\u001b[0m\u001b[1;33m.\u001b[0m\u001b[0mface\u001b[0m\u001b[1;33m.\u001b[0m\u001b[0mt\u001b[0m\u001b[1;33m(\u001b[0m\u001b[1;33m)\u001b[0m\u001b[1;33m)\u001b[0m\u001b[1;33m\u001b[0m\u001b[1;33m\u001b[0m\u001b[0m\n\u001b[0m\u001b[0;32m     14\u001b[0m \u001b[0mbuilder\u001b[0m\u001b[1;33m.\u001b[0m\u001b[0mset_classifier\u001b[0m\u001b[1;33m(\u001b[0m\u001b[0mmodel\u001b[0m\u001b[1;33m)\u001b[0m\u001b[1;33m\u001b[0m\u001b[1;33m\u001b[0m\u001b[0m\n\u001b[0;32m     15\u001b[0m \u001b[0mbuilder\u001b[0m\u001b[1;33m.\u001b[0m\u001b[0mset_perturbation\u001b[0m\u001b[1;33m(\u001b[0m\u001b[0mperturbation_factory\u001b[0m\u001b[1;33m=\u001b[0m\u001b[1;32mlambda\u001b[0m \u001b[0mx\u001b[0m\u001b[1;33m:\u001b[0m\u001b[0mLowbandPerturbation\u001b[0m\u001b[1;33m(\u001b[0m\u001b[0mx\u001b[0m\u001b[1;33m,\u001b[0m\u001b[0meigs_num\u001b[0m\u001b[1;33m=\u001b[0m\u001b[1;36m40\u001b[0m\u001b[1;33m)\u001b[0m\u001b[1;33m)\u001b[0m\u001b[1;33m\u001b[0m\u001b[1;33m\u001b[0m\u001b[0m\n",
      "\u001b[1;31mNameError\u001b[0m: name 'search_iterations' is not defined"
     ]
    }
   ],
   "source": [
    "model = models.ChebnetClassifier(\n",
    "    param_conv_layers=[128,128,64,64],\n",
    "    D_t = traindata.downscale_matrices,\n",
    "    E_t = traindata.downscaled_edges,\n",
    "    num_classes = traindata.num_classes,\n",
    "    parameters_file=MODEL_PATH)\n",
    "\n",
    "#compute accuracy\n",
    "accuracy, confusion_matrix = train.evaluate(eval_data=testdata,classifier=model,epoch_number=1)\n",
    "print(accuracy)\n",
    "\n",
    "import adversarial.carlini_wagner as cw\n",
    "builder = cw.CWBuilder(search_iterations).set_mesh(mesh.pos, mesh.edge_index.t(), mesh.face.t())\n",
    "builder.set_classifier(model)\n",
    "builder.set_perturbation(perturbation_factory=lambda x:LowbandPerturbation(x,eigs_num=40))\n",
    "builder.set_adversarial_loss(adv_loss_factory=AdversarialLoss)\n",
    "builder.set_similarity_loss(sim_loss_factory=LocalEuclideanSimilarity)\n",
    "#builder.set_similarity_loss(sim_loss_factory=L2Similarity)\n",
    "adex = builder.build()\n"
   ]
  },
  {
   "cell_type": "code",
   "execution_count": null,
   "metadata": {},
   "outputs": [],
   "source": [
    "import torch_geometric\n",
    "\n",
    "print(d[246,0].keys())\n",
    "positions = torch.tensor(d[246,0][\"positions\"])\n",
    "perturbed_position = torch.tensor(d[246,0][\"perturbed-positions\"])\n",
    "\n",
    "faces = data[0].face\n",
    "\n",
    "mesh_normal = torch_geometric.data.Data(pos=positions, face=faces)\n",
    "mesh_perturbed = torch_geometric.data.Data(pos=perturbed_position, face=faces)\n",
    "\n",
    "pos = positions\n",
    "ppos = perturbed_position\n",
    "N = positions.shape[0]\n",
    "\n",
    "tmpx = torch.cat([pos, ppos],dim=0)\n",
    "tmpf = torch.cat([faces.t(), faces.t()+N], dim=0)\n",
    "color = torch.zeros([N*2],dtype=pos.dtype, device=pos.device)\n",
    "color[N:] = (pos-ppos).norm(p=2,dim=-1)\n",
    "\n",
    "print(tmpx.shape)\n",
    "print(tmpf.shape)\n",
    "visualize(tmpx,tmpf,color)\n",
    "\n",
    "import torch_geometric.io\n",
    "write_obj(mesh_normal, \"normal-example.obj\")\n",
    "write_obj(mesh_perturbed, \"adversarial-example.obj\")\n",
    "#torch_geometric.io.write_off(data[, \"normal-example.off\")\n"
   ]
  },
  {
   "cell_type": "code",
   "execution_count": null,
   "metadata": {},
   "outputs": [],
   "source": [
    "def write_obj(mesh, file):\n",
    "    with open(file, 'w') as f:\n",
    "        f.write(\"# OBJ file\\n\")\n",
    "        for v in mesh.pos:\n",
    "            v = v.numpy()\n",
    "            f.write(\"v {} {} {}\\n\".format(v[0], v[1], v[2]))\n",
    "            \n",
    "        for face in mesh.face.t():\n",
    "            f.write(\"f\")\n",
    "            face = face.numpy()\n",
    "            for i in face:\n",
    "                f.write(\" %d\" % (i + 1))\n",
    "            f.write(\"\\n\")\n",
    "\n",
    "def read_obj(file):\n",
    "    vertices = []\n",
    "    faces = []\n",
    "    with open(file, 'r') as f:\n",
    "        line = file.readline()\n",
    "        fc =  line[0]\n",
    "        if fc == \"#\": \n",
    "            pass\n",
    "        elif fc == \"v\":\n",
    "            vertices += [[float(s) for s in file.readline().strip().split(' ')] for i_vert in range(n_verts)]        \n",
    "        elif fc == \"f\":\n",
    "            faces += [[int(s) for s in file.readline().strip().split(' ')] for i_vert in range(n_verts)]\n",
    "    vertices = np.array(vertices, dtype=np.float64)\n",
    "    faces = np.array(faces, dtype=np.long)\n",
    "    return vertices, faces\n"
   ]
  },
  {
   "cell_type": "code",
   "execution_count": null,
   "metadata": {},
   "outputs": [],
   "source": [
    "import plotly\n",
    "import plotly.graph_objects as go\n",
    "import numpy as np\n",
    "\n",
    "def visualize(pos, faces, intensity=None):\n",
    "  cpu = torch.device(\"cpu\")\n",
    "  if type(pos) != np.ndarray:\n",
    "    pos = pos.to(cpu).clone().detach().numpy()\n",
    "  if pos.shape[-1] != 3:\n",
    "    raise ValueError(\"Vertices positions must have shape [n,3]\")\n",
    "  if type(faces) != np.ndarray:\n",
    "    faces = faces.to(cpu).clone().detach().numpy()\n",
    "  if faces.shape[-1] != 3:\n",
    "    raise ValueError(\"Face indices must have shape [m,3]\") \n",
    "  if intensity is None:\n",
    "    intensity = np.ones([pos.shape[0]])\n",
    "  elif type(intensity) != np.ndarray:\n",
    "    intensity = intensity.to(cpu).clone().detach().numpy()\n",
    "\n",
    "  x, z, y = pos.T\n",
    "  i, j, k = faces.T\n",
    "\n",
    "  mesh = go.Mesh3d(x=x, y=y, z=z,\n",
    "            color='lightpink',\n",
    "            intensity=intensity,\n",
    "            opacity=1,\n",
    "            colorscale=[[0, 'gold'],[0.5, 'mediumturquoise'],[1, 'magenta']],\n",
    "            i=i, j=j, k=k,\n",
    "            showscale=True)\n",
    "  layout = go.Layout(scene=go.layout.Scene(aspectmode=\"data\")) \n",
    "\n",
    "  #pio.renderers.default=\"plotly_mimetype\"\n",
    "  fig = go.Figure(data=[mesh],\n",
    "                  layout=layout)\n",
    "  fig.update_layout(\n",
    "      autosize=True,\n",
    "      margin=dict(l=20, r=20, t=20, b=20),\n",
    "      paper_bgcolor=\"LightSteelBlue\")\n",
    "  fig.show()\n"
   ]
  },
  {
   "cell_type": "markdown",
   "metadata": {},
   "source": [
    "now that we have defined the visualization procedure, we can show some meshes:"
   ]
  },
  {
   "cell_type": "code",
   "execution_count": null,
   "metadata": {},
   "outputs": [],
   "source": [
    "import adversarial.carlini_wagner as cw\n",
    "\n",
    "i=20\n",
    "x = data[i].pos\n",
    "e = data[i].edge_index.t()\n",
    "f = data[i].face.t()\n",
    "y = data[i].y\n",
    "t = 9\n",
    "n = x.shape[0]\n",
    "eigs_num = 100\n",
    "\n",
    "\n",
    "builder = cw.AdversarialExampleBuilder(model).set_log_interval(2)\n",
    "builder.set_perturbation_type(\"spectral\").set_mesh(x,e,f).set_target(t).set_distortion_functions(cw.LocallyEuclideanDistortion())\n",
    "adex = builder.set_adversarial_coeff(1e-6).build(50, 8e-4, usetqdm=\"standard\")\n"
   ]
  },
  {
   "cell_type": "code",
   "execution_count": null,
   "metadata": {},
   "outputs": [],
   "source": [
    "import adversarial.carlini_wagner as cw\n",
    "visualize(adex.perturbed_pos,adex.faces, torch.norm(adex.perturbed_pos- adex.pos,p=2,dim=-1))\n",
    "adex.logger.show()\n",
    "\n",
    "plt.figure()\n",
    "plt.scatter(range(10), model(adex.pos).detach())\n",
    "plt.scatter(range(10), model(adex.perturbed_pos).detach())\n",
    "plt.show()"
   ]
  },
  {
   "cell_type": "markdown",
   "metadata": {},
   "source": [
    "## Metrics\n"
   ]
  },
  {
   "cell_type": "code",
   "execution_count": null,
   "metadata": {},
   "outputs": [],
   "source": [
    "def compute_distance_mse(pos, perturbed_pos, faces, K, t):\n",
    "    eigvals1, eigvecs1 = eigenpairs(pos, faces, K)\n",
    "    eigvals2, eigvecs2 = eigenpairs(perturbed_pos, faces, K)\n",
    "    d1 = diffusion_distance(eigvals1,eigvecs1,t)\n",
    "    d2 = diffusion_distance(eigvals2,eigvecs2,t)\n",
    "    return d1,d2\n",
    "\n",
    "\n",
    "def compute_distance_distance(distance, perbed_pos, faces, K, t):\n",
    "    eigvals, eigvecs = eigenpairs(perbed_pos, faces, K)\n",
    "    d = diffusion_distance(eigvals,eigvecs,t)\n",
    "    return torch.nn.functional.mse_loss(distance, d)\n",
    "\n",
    "def get_generator_data(adv_data, faces, K=10, t=0.01):\n",
    "    out_dictionary = {\"MSE_diffusion\":[], \"LB_loss\":[], \"MCF_loss\":[], \"Euclidean_loss\":[]}\n",
    "    diff_distances, mesh_eigenpairs = {}, {}\n",
    "    for (idx, target), data in adv_data.items():\n",
    "        print(\"processing \", idx,\":\",target)\n",
    "\n",
    "        # get useful properties\n",
    "        metrics = data[\"tracking-data\"]\n",
    "        pos = torch.tensor(data[\"positions\"],dtype=torch.double)\n",
    "        ppos = torch.tensor(data[\"perturbed-positions\"],dtype=torch.double)\n",
    "        c = data[\"c-value\"]\n",
    "        \n",
    "        if idx not in mesh_eigenpairs:\n",
    "            mesh_eigenpairs[idx] = utils.eigenpairs(pos, faces, K)\n",
    "            \n",
    "        if idx not in diff_distances:\n",
    "            diff_distances[idx] = diffusion_distance(*mesh_eigenpairs[idx], t)\n",
    "\n",
    "        out_dictionary[\"MSE_diffusion\"] = compute_distance_distance(\n",
    "            diff_distances[idx], ppos, faces, K, t)\n",
    "        \n",
    "        # insert metrics into output dictionary  \n",
    "        for k in out_dictionary.keys():\n",
    "            if k in metrics: out_dictionary[k].append(metrics[k][-1])\n",
    "\n",
    "    # convert into numpy arrays\n",
    "    for k in out_dictionary.keys():out_dictionary[k] = np.array(out_dictionary[k])\n",
    "    return out_dictionary\n",
    "\n",
    "\n",
    "root = \"../model_data/adv_data\"\n",
    "filenames = [\"Spectral\", \"MCF\", \"Dist\"]\n",
    "faces = data[0].face.t()\n",
    "\n",
    "generators_data = {}\n",
    "for fname in filenames:\n",
    "  absname = os.path.join(root, fname+\"AdversarialGenerator.pt\")\n",
    "  with open(absname, \"rb\") as f:\n",
    "    generators_data[fname] = pickle.load(f)\n",
    "    \n",
    "processed_data = {}\n",
    "for gname, adv_data in generators_data.items():\n",
    "    print(gname)\n",
    "    processed_data[gname] = get_generator_data(adv_data, faces, K=30, t=0.01)\n",
    "    "
   ]
  },
  {
   "cell_type": "markdown",
   "metadata": {},
   "source": [
    "## Plot data"
   ]
  },
  {
   "cell_type": "code",
   "execution_count": null,
   "metadata": {},
   "outputs": [],
   "source": [
    "import matplotlib as mpl\n",
    "mpl.rcParams['axes.linewidth'] = 3\n",
    "\n",
    "def boxplot(boxdata, labels=[], title=\"\", ylabel=\"\", xlabel=\"\",savefile=None, yscale=None):\n",
    "    fig = plt.figure(1, figsize=(9, 6))\n",
    "    ax = plt.subplot(111)\n",
    "    ax.boxplot(boxdata)\n",
    "    if yscale is not None: plt.yscale(yscale)\n",
    "    locs, _ = plt.xticks()\n",
    "    plt.xticks(locs, labels,fontsize=17)\n",
    "    plt.xlabel(xlabel,fontsize=20, fontweight='bold')\n",
    "    plt.ylabel(ylabel,fontsize=20, fontweight='bold')\n",
    "    plt.suptitle(title,fontsize=25, fontweight='bold')\n",
    "    if savefile is not None:\n",
    "        plt.savefig(savefile,dpi=300,bbox_inches='tight')\n"
   ]
  },
  {
   "cell_type": "code",
   "execution_count": null,
   "metadata": {},
   "outputs": [],
   "source": [
    "def prefix2label(gen_prefix:str):\n",
    "    pref2lab = {\n",
    "         \"Spectral\":\"Laplace-\\nBeltrami\",\n",
    "         \"Dist\":\"locally\\nEuclidean\", \n",
    "         \"Euclidean\":\"point-wise\\nEuclidean\", \n",
    "         \"MCF\":\"mean\\ncurvature\"}\n",
    "    return pref2lab[gen_prefix]\n",
    "\n",
    "def generate_diffusion_distance_boxplots(root, names_prefixes, ti, yscale=\"linear\"):\n",
    "    diffusion_data = {}\n",
    "    for fname in names_prefixes:\n",
    "      absname = os.path.join(root, fname+\"_diff_dist.pt\")\n",
    "      with open(absname, \"rb\") as f:\n",
    "        diffusion_data[fname] = pickle.load(f)\n",
    "    \n",
    "    boxdata = np.stack([diffusion_data[name][:,ti] for name in names_prefixes], axis=1)\n",
    "    labels = [prefix2label(prefix) for prefix in names_prefixes]\n",
    "    xlab = \"Distortion Functions\"\n",
    "    ylab = \"Diffusion distance mse\"\n",
    "    title = \"Diffusion Distance MSE\"\n",
    "    savefile = \"../../Dropbox/LaTeX/master-thesis/img/diff_dist_{}.png\".format(ti)\n",
    "    boxplot(boxdata, labels, title, ylab, xlab, savefile, yscale=yscale)"
   ]
  },
  {
   "cell_type": "code",
   "execution_count": null,
   "metadata": {},
   "outputs": [],
   "source": [
    "root = \"../model_data/diff_dist\"\n",
    "filenames = [\"Spectral\", \"MCF\", \"Dist\", \"Euclidean\"]\n",
    "generate_diffusion_distance_boxplots(root, filenames, ti=2, yscale=\"log\")\n"
   ]
  },
  {
   "cell_type": "code",
   "execution_count": null,
   "metadata": {},
   "outputs": [],
   "source": [
    "diffusion_data = {}\n",
    "for fname in filenames:\n",
    "  absname = os.path.join(root, fname+\"_diff_dist.pt\")\n",
    "  with open(absname, \"rb\") as f:\n",
    "    diffusion_data[fname] = pickle.load(f)\n",
    "\n",
    "boxplot(diffusion_data[\"Euclidean\"][1])"
   ]
  },
  {
   "cell_type": "code",
   "execution_count": null,
   "metadata": {},
   "outputs": [],
   "source": [
    "import os\n",
    "import pickle\n",
    "import matplotlib.pyplot as plt\n",
    "from mesh.laplacian import LB_v2\n",
    "\n",
    "def euclidean_statistics(adv_data):\n",
    "    out = []\n",
    "    areas={}\n",
    "    for (idx, target), data in adv_data.items():\n",
    "        print(\"processing \", idx,\":\",target)\n",
    "        pos = torch.tensor(data[\"positions\"],dtype=torch.double)\n",
    "        ppos = torch.tensor(data[\"perturbed-positions\"],dtype=torch.double)\n",
    "        \n",
    "        if idx not in areas:\n",
    "            _, (_, a) = LB_v2(pos, faces)\n",
    "            areas[idx] = a\n",
    "\n",
    "        out.append(compute_euclidean(pos,ppos, a).numpy())\n",
    "    return  np.array(out)\n",
    "\n",
    "root = \"../model_data/adv_data\"\n",
    "filenames = [\"Spectral\", \"MCF\", \"Dist\", \"Euclidean\"]\n",
    "faces = data[0].face.t()\n",
    "\n",
    "generators_data = {}\n",
    "for fname in filenames:\n",
    "  absname = os.path.join(root, fname+\"AdversarialGenerator.pt\")\n",
    "  with open(absname, \"rb\") as f:\n",
    "    generators_data[fname] = pickle.load(f)\n",
    "    \n",
    "processed_data = {}\n",
    "for gname, adv_data in generators_data.items():\n",
    "    print(gname)\n",
    "    processed_data[gname] = euclidean_statistics(adv_data)\n",
    "    "
   ]
  },
  {
   "cell_type": "code",
   "execution_count": null,
   "metadata": {},
   "outputs": [],
   "source": [
    "root = \"../model_data/\"\n",
    "savefile = \"../../Dropbox/LaTeX/master-thesis/img/gerror.png\"\n",
    "filenames = [\"Spectral\", \"MCF\", \"Dist\", \"Euclidean\"]\n",
    "\n",
    "gerror =scipy.io.loadmat(root+\"geodesic_error\", struct_as_record=False)[\"geodesic_error_struct\"][0,0]\n",
    "L = np.concatenate([getattr(gerror, attr) for attr in filenames], axis=1)\n",
    "\n",
    "labels = [prefix2label(prefix) for prefix in filenames]\n",
    "boxplot(\n",
    "    boxdata = L/(6890**2),\n",
    "    labels = labels,\n",
    "    title = \"Geodesic Error\",\n",
    "    ylabel = \"mean geodesic error\",\n",
    "    xlabel = \"Distortion Functions\",\n",
    "    savefile=savefile)\n",
    "\n"
   ]
  }
 ],
 "metadata": {
  "kernelspec": {
   "display_name": "Python 3",
   "language": "python",
   "name": "python3"
  },
  "language_info": {
   "codemirror_mode": {
    "name": "ipython",
    "version": 3
   },
   "file_extension": ".py",
   "mimetype": "text/x-python",
   "name": "python",
   "nbconvert_exporter": "python",
   "pygments_lexer": "ipython3",
   "version": "3.7.3"
  }
 },
 "nbformat": 4,
 "nbformat_minor": 4
}
