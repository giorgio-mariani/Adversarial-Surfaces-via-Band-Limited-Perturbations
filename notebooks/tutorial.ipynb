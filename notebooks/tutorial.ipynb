{
 "cells": [
  {
   "cell_type": "markdown",
   "metadata": {},
   "source": [
    "# Tutorial\n",
    "## 1) Targeted Adversarial Examples (Carlini & Wagner and related methods)\n",
    "First, we need to import the necessary modules."
   ]
  },
  {
   "cell_type": "code",
   "execution_count": null,
   "metadata": {},
   "outputs": [],
   "source": [
    "%load_ext autoreload\n",
    "%autoreload 2\n",
    "\n",
    "# built-in libraries\n",
    "import sys\n",
    "import os \n",
    "\n",
    "# third party libraries\n",
    "import matplotlib.pyplot as plt \n",
    "import numpy as np\n",
    "import tqdm\n",
    "import torch \n",
    "import torch.nn.functional as func"
   ]
  },
  {
   "cell_type": "markdown",
   "metadata": {},
   "source": [
    "The training and test data is loaded in memory using the `dataset` local module. Before using the FAUST dataset download it from [here](http://faust.is.tue.mpg.de/) and place it in `{repository-root}/datasets/faust/raw/`."
   ]
  },
  {
   "cell_type": "code",
   "execution_count": null,
   "metadata": {},
   "outputs": [],
   "source": [
    "REPO_ROOT = os.path.abspath(os.path.join(os.path.dirname(os.path.realpath('__file__')),\"..\"))\n",
    "DEVICE = torch.device(\"cuda\") if torch.cuda.is_available() else torch.device(\"cpu\")\n",
    "SRC_DIR = os.path.join(REPO_ROOT,\"src\")\n",
    "FAUST = os.path.join(REPO_ROOT,\"datasets/faust\")\n",
    "PARAMS_FILE = os.path.join(REPO_ROOT, \"model_data/data.pt\")\n",
    "\n",
    "# repository modules\n",
    "sys.path.insert(0, SRC_DIR)\n",
    "import models\n",
    "import train\n",
    "import dataset\n",
    "import utils\n",
    "\n",
    "traindata = dataset.FaustDataset(FAUST, train=True, test=False, transform_data=True)\n",
    "testdata = dataset.FaustDataset(FAUST, train=False, test=True,  transform_data=True)"
   ]
  },
  {
   "cell_type": "markdown",
   "metadata": {},
   "source": [
    "Then we can define the classifier for the human pose classefication task; download the classifier parameters from [here](https://drive.google.com/open?id=1IllCPPPcqFL3v8BDxCyswzEpxoGyXvMe). Move these parameters in `{repository-root}/model_data/data.pt` ."
   ]
  },
  {
   "cell_type": "code",
   "execution_count": null,
   "metadata": {},
   "outputs": [],
   "source": [
    "model = models.ChebnetClassifier(\n",
    "    param_conv_layers=[128,128,64,64],\n",
    "    D_t = traindata.downscale_matrices,\n",
    "    E_t = traindata.downscaled_edges,\n",
    "    num_classes = traindata.num_classes,\n",
    "    parameters_file=PARAMS_FILE)"
   ]
  },
  {
   "cell_type": "markdown",
   "metadata": {},
   "source": [
    "Training and evaluation can be done through the `train` local module."
   ]
  },
  {
   "cell_type": "code",
   "execution_count": null,
   "metadata": {},
   "outputs": [],
   "source": [
    "#train network\n",
    "train.train(\n",
    "    train_data=traindata,\n",
    "    classifier=model,\n",
    "    parameters_file=PARAMS_FILE,\n",
    "    epoch_number=0) # <- change here the number of epochs used for training\n",
    "\n",
    "#compute accuracy\n",
    "accuracy, confusion_matrix = train.evaluate(eval_data=testdata, classifier=model, epoch_number=5)\n",
    "\n",
    "print(accuracy)\n",
    "plt.matshow(confusion_matrix)\n",
    "plt.show()"
   ]
  },
  {
   "cell_type": "markdown",
   "metadata": {},
   "source": [
    "### Generating Targeted Adversarial Examples"
   ]
  },
  {
   "cell_type": "code",
   "execution_count": null,
   "metadata": {},
   "outputs": [],
   "source": [
    "import adversarial.carlini_wagner as cw\n",
    "from adversarial.carlini_wagner import CWBuilder, LowbandPerturbation, generate_adversarial_example\n",
    "\n",
    "# get a random mesh from the dataset and a random target class\n",
    "import random\n",
    "while True:\n",
    "    i = random.randint(0, len(testdata)-1)\n",
    "    t = random.randint(0, testdata.num_classes-1)\n",
    "    y = testdata[i].y.item()\n",
    "    if y != t: break\n",
    "mesh = testdata[i]\n",
    "\n",
    "#parameters used to search the adversarial example\n",
    "params = {\n",
    "    CWBuilder.USETQDM:True,\n",
    "    CWBuilder.MIN_IT:5,      #<- number of iterations for the adversarial example computation (common value: 1000)\n",
    "    CWBuilder.LEARN_RATE:1e-4, #<- learning rate used during optimization \n",
    "    CWBuilder.ADV_COEFF:1e-2, #<- starting coefficient applied to the adversarial loss (updated via exponential search)\n",
    "    CWBuilder.REG_COEFF:1, #<- coefficient applied to the regularization term\n",
    "    LowbandPerturbation.EIGS_NUMBER:40 #<- number of eigenvalues used for the low-band perturbation\n",
    "    }  \n",
    "\n",
    "\n",
    "# configure adversarial example components using builder\n",
    "#--------------------------------------------------------\n",
    "builder = CWBuilder(search_iterations=1)\n",
    "builder.set_classifier(model)\n",
    "builder.set_mesh(pos=mesh.pos, edges=mesh.edge_index.t(), faces=mesh.face.t())\n",
    "builder.set_target(t)\n",
    "builder.set_similarity_loss(cw.LocalEuclideanSimilarity)\n",
    "builder.set_adversarial_loss(cw.AdversarialLoss)\n",
    "builder.set_regularization_loss(cw.EmptyRegularizer) #<- i.e. no regularization term\n",
    "adex = builder.build(**params)\n",
    "print(\"adversarial attack: \"+(\"successful\" if adex.is_successful else \"unsuccessful\"))\n",
    "\n",
    "\n",
    "# configure adversarial example using 'generate_adversarial_example'\n",
    "#-------------------------------------------------------------------\n",
    "generate_adversarial_example(mesh=mesh, classifier=model, target=t, **params)"
   ]
  },
  {
   "cell_type": "markdown",
   "metadata": {},
   "source": [
    "We can finally see the actual adversarial example using **Plotly** (note: you need to install plotly before-hand)"
   ]
  },
  {
   "cell_type": "code",
   "execution_count": null,
   "metadata": {},
   "outputs": [],
   "source": [
    "import plotly\n",
    "import plotly.graph_objects as go\n",
    "import numpy as np\n",
    "\n",
    "def visualize(pos, faces, intensity=None):\n",
    "  cpu = torch.device(\"cpu\")\n",
    "  if type(pos) != np.ndarray:\n",
    "    pos = pos.to(cpu).clone().detach().numpy()\n",
    "  if pos.shape[-1] != 3:\n",
    "    raise ValueError(\"Vertices positions must have shape [n,3]\")\n",
    "  if type(faces) != np.ndarray:\n",
    "    faces = faces.to(cpu).clone().detach().numpy()\n",
    "  if faces.shape[-1] != 3:\n",
    "    raise ValueError(\"Face indices must have shape [m,3]\") \n",
    "  if intensity is None:\n",
    "    intensity = np.ones([pos.shape[0]])\n",
    "  elif type(intensity) != np.ndarray:\n",
    "    intensity = intensity.to(cpu).clone().detach().numpy()\n",
    "\n",
    "  x, z, y = pos.T\n",
    "  i, j, k = faces.T\n",
    "\n",
    "  mesh = go.Mesh3d(x=x, y=y, z=z,\n",
    "            color='lightpink',\n",
    "            intensity=intensity,\n",
    "            opacity=1,\n",
    "            colorscale=[[0, 'gold'],[0.5, 'mediumturquoise'],[1, 'magenta']],\n",
    "            i=i, j=j, k=k,\n",
    "            showscale=True)\n",
    "  layout = go.Layout(scene=go.layout.Scene(aspectmode=\"data\")) \n",
    "\n",
    "  #pio.renderers.default=\"plotly_mimetype\"\n",
    "  fig = go.Figure(data=[mesh],\n",
    "                  layout=layout)\n",
    "  fig.update_layout(\n",
    "      autosize=True,\n",
    "      margin=dict(l=20, r=20, t=20, b=20),\n",
    "      paper_bgcolor=\"LightSteelBlue\")\n",
    "  fig.show()\n",
    "    \n",
    "def compare(pos1, faces1, pos2, faces2):\n",
    "    n,m = pos1.shape[0], pos2.shape[0]\n",
    "    tmpx = torch.cat([pos1, pos2],dim=0)\n",
    "    tmpf = torch.cat([faces1, faces2+n], dim=0)\n",
    "    color = torch.zeros([n+m],dtype=pos1.dtype, device=pos1.device)\n",
    "    color[n:] = (pos1-pos2).norm(p=2,dim=-1)\n",
    "    visualize(tmpx, tmpf,color)"
   ]
  },
  {
   "cell_type": "markdown",
   "metadata": {},
   "source": [
    "visualization:"
   ]
  },
  {
   "cell_type": "code",
   "execution_count": null,
   "metadata": {},
   "outputs": [],
   "source": [
    "visualize(adex.perturbed_pos, f, (adex.pos-adex.perturbed_pos).norm(p=2,dim=-1))\n",
    "compare(adex.pos, adex.faces, adex.perturbed_pos, adex.faces)"
   ]
  },
  {
   "cell_type": "markdown",
   "metadata": {},
   "source": [
    "## 2) Untargeted (FSGM and related methods)"
   ]
  },
  {
   "cell_type": "code",
   "execution_count": null,
   "metadata": {},
   "outputs": [],
   "source": [
    "from adversarial.pgd import PGDBuilder,LowBandTransform, ClipTransform, generate_adversarial_example\n",
    "import random\n",
    "i = random.randint(0, len(testdata)-1)\n",
    "mesh = testdata[i]\n",
    "\n",
    "params = {PGDBuilder.IT:10, \n",
    "        LowBandTransform.EIGS_NUMBER:40,\n",
    "         ClipTransform.EPSILON:1}\n",
    "adex = generate_adversarial_example(\n",
    "    mesh, model, alpha=0.002, **params, \n",
    "    clip_transform=\"pointwise\", \n",
    "    lowband_transform=\"static\", \n",
    "    gradient_transform=\"sign\")\n",
    "\n",
    "visualize(adex.perturbed_pos, f, (adex.pos -adex.perturbed_pos).norm(p=2,dim=-1))\n",
    "print(adex.is_successful)"
   ]
  }
 ],
 "metadata": {
  "kernelspec": {
   "display_name": "Python 3",
   "language": "python",
   "name": "python3"
  },
  "language_info": {
   "codemirror_mode": {
    "name": "ipython",
    "version": 3
   },
   "file_extension": ".py",
   "mimetype": "text/x-python",
   "name": "python",
   "nbconvert_exporter": "python",
   "pygments_lexer": "ipython3",
   "version": "3.7.3"
  }
 },
 "nbformat": 4,
 "nbformat_minor": 4
}
